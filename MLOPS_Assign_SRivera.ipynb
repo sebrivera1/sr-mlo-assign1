{
  "cells": [
    {
      "cell_type": "markdown",
      "metadata": {},
      "source": [
        "# imports"
      ]
    },
    {
      "cell_type": "code",
      "execution_count": null,
      "metadata": {},
      "outputs": [
        {
          "name": "stdout",
          "output_type": "stream",
          "text": [
            "Collecting dotenv\n",
            "  Downloading dotenv-0.9.9-py2.py3-none-any.whl.metadata (279 bytes)\n",
            "Collecting python-dotenv (from dotenv)\n",
            "  Using cached python_dotenv-1.1.1-py3-none-any.whl.metadata (24 kB)\n",
            "Downloading dotenv-0.9.9-py2.py3-none-any.whl (1.9 kB)\n",
            "Using cached python_dotenv-1.1.1-py3-none-any.whl (20 kB)\n",
            "Installing collected packages: python-dotenv, dotenv\n",
            "Successfully installed dotenv-0.9.9 python-dotenv-1.1.1\n"
          ]
        },
        {
          "name": "stderr",
          "output_type": "stream",
          "text": [
            "\n",
            "[notice] A new release of pip is available: 24.0 -> 25.2\n",
            "[notice] To update, run: C:\\Users\\river\\AppData\\Local\\Microsoft\\WindowsApps\\PythonSoftwareFoundation.Python.3.11_qbz5n2kfra8p0\\python.exe -m pip install --upgrade pip\n"
          ]
        }
      ],
      "source": [
        "#%pip install dotenv tensorflow==2.15.0 tensorflow-privacy==0.9.0\n",
        "#%pip install wandb lakefs pathlib "
      ]
    },
    {
      "cell_type": "code",
      "execution_count": null,
      "metadata": {},
      "outputs": [
        {
          "name": "stdout",
          "output_type": "stream",
          "text": [
            "Collecting seaborn"
          ]
        },
        {
          "name": "stderr",
          "output_type": "stream",
          "text": [
            "\n"
          ]
        },
        {
          "name": "stdout",
          "output_type": "stream",
          "text": [
            "\n"
          ]
        },
        {
          "name": "stderr",
          "output_type": "stream",
          "text": [
            "[notice] A new release of pip is available: 24.0 -> 25.2\n"
          ]
        },
        {
          "name": "stdout",
          "output_type": "stream",
          "text": [
            "  Downloading seaborn-0.13.2-py3-none-any.whl.metadata (5.4 kB)"
          ]
        },
        {
          "name": "stderr",
          "output_type": "stream",
          "text": [
            "[notice] To update, run: C:\\Users\\river\\AppData\\Local\\Microsoft\\WindowsApps\\PythonSoftwareFoundation.Python.3.11_qbz5n2kfra8p0\\python.exe -m pip install --upgrade pip"
          ]
        },
        {
          "name": "stdout",
          "output_type": "stream",
          "text": [
            "\n",
            "Requirement already satisfied: matplotlib in c:\\users\\river\\appdata\\local\\packages\\pythonsoftwarefoundation.python.3.11_qbz5n2kfra8p0\\localcache\\local-packages\\python311\\site-packages (3.10.5)"
          ]
        },
        {
          "name": "stderr",
          "output_type": "stream",
          "text": [
            "\n"
          ]
        },
        {
          "name": "stdout",
          "output_type": "stream",
          "text": [
            "\n",
            "Requirement already satisfied: pandas in c:\\users\\river\\appdata\\local\\packages\\pythonsoftwarefoundation.python.3.11_qbz5n2kfra8p0\\localcache\\local-packages\\python311\\site-packages (2.3.0)\n",
            "Requirement already satisfied: numpy in c:\\users\\river\\appdata\\local\\packages\\pythonsoftwarefoundation.python.3.11_qbz5n2kfra8p0\\localcache\\local-packages\\python311\\site-packages (1.26.4)\n",
            "Requirement already satisfied: scikit-learn in c:\\users\\river\\appdata\\local\\packages\\pythonsoftwarefoundation.python.3.11_qbz5n2kfra8p0\\localcache\\local-packages\\python311\\site-packages (1.7.2)\n",
            "Collecting xgboost\n",
            "  Using cached xgboost-3.0.5-py3-none-win_amd64.whl.metadata (2.1 kB)\n",
            "Requirement already satisfied: contourpy>=1.0.1 in c:\\users\\river\\appdata\\local\\packages\\pythonsoftwarefoundation.python.3.11_qbz5n2kfra8p0\\localcache\\local-packages\\python311\\site-packages (from matplotlib) (1.3.3)\n",
            "Requirement already satisfied: cycler>=0.10 in c:\\users\\river\\appdata\\local\\packages\\pythonsoftwarefoundation.python.3.11_qbz5n2kfra8p0\\localcache\\local-packages\\python311\\site-packages (from matplotlib) (0.12.1)\n",
            "Requirement already satisfied: fonttools>=4.22.0 in c:\\users\\river\\appdata\\local\\packages\\pythonsoftwarefoundation.python.3.11_qbz5n2kfra8p0\\localcache\\local-packages\\python311\\site-packages (from matplotlib) (4.59.0)\n",
            "Requirement already satisfied: kiwisolver>=1.3.1 in c:\\users\\river\\appdata\\local\\packages\\pythonsoftwarefoundation.python.3.11_qbz5n2kfra8p0\\localcache\\local-packages\\python311\\site-packages (from matplotlib) (1.4.8)\n",
            "Requirement already satisfied: packaging>=20.0 in c:\\users\\river\\appdata\\local\\packages\\pythonsoftwarefoundation.python.3.11_qbz5n2kfra8p0\\localcache\\local-packages\\python311\\site-packages (from matplotlib) (22.0)\n",
            "Requirement already satisfied: pillow>=8 in c:\\users\\river\\appdata\\local\\packages\\pythonsoftwarefoundation.python.3.11_qbz5n2kfra8p0\\localcache\\local-packages\\python311\\site-packages (from matplotlib) (11.2.1)\n",
            "Requirement already satisfied: pyparsing>=2.3.1 in c:\\users\\river\\appdata\\local\\packages\\pythonsoftwarefoundation.python.3.11_qbz5n2kfra8p0\\localcache\\local-packages\\python311\\site-packages (from matplotlib) (3.2.3)\n",
            "Requirement already satisfied: python-dateutil>=2.7 in c:\\users\\river\\appdata\\local\\packages\\pythonsoftwarefoundation.python.3.11_qbz5n2kfra8p0\\localcache\\local-packages\\python311\\site-packages (from matplotlib) (2.9.0.post0)\n",
            "Requirement already satisfied: pytz>=2020.1 in c:\\users\\river\\appdata\\local\\packages\\pythonsoftwarefoundation.python.3.11_qbz5n2kfra8p0\\localcache\\local-packages\\python311\\site-packages (from pandas) (2025.2)\n",
            "Requirement already satisfied: tzdata>=2022.7 in c:\\users\\river\\appdata\\local\\packages\\pythonsoftwarefoundation.python.3.11_qbz5n2kfra8p0\\localcache\\local-packages\\python311\\site-packages (from pandas) (2025.2)\n",
            "Requirement already satisfied: scipy>=1.8.0 in c:\\users\\river\\appdata\\local\\packages\\pythonsoftwarefoundation.python.3.11_qbz5n2kfra8p0\\localcache\\local-packages\\python311\\site-packages (from scikit-learn) (1.16.2)\n",
            "Requirement already satisfied: joblib>=1.2.0 in c:\\users\\river\\appdata\\local\\packages\\pythonsoftwarefoundation.python.3.11_qbz5n2kfra8p0\\localcache\\local-packages\\python311\\site-packages (from scikit-learn) (1.5.2)\n",
            "Requirement already satisfied: threadpoolctl>=3.1.0 in c:\\users\\river\\appdata\\local\\packages\\pythonsoftwarefoundation.python.3.11_qbz5n2kfra8p0\\localcache\\local-packages\\python311\\site-packages (from scikit-learn) (3.6.0)\n",
            "Requirement already satisfied: six>=1.5 in c:\\users\\river\\appdata\\local\\packages\\pythonsoftwarefoundation.python.3.11_qbz5n2kfra8p0\\localcache\\local-packages\\python311\\site-packages (from python-dateutil>=2.7->matplotlib) (1.17.0)\n",
            "Downloading seaborn-0.13.2-py3-none-any.whl (294 kB)\n",
            "   ---------------------------------------- 0.0/294.9 kB ? eta -:--:--\n",
            "   - -------------------------------------- 10.2/294.9 kB ? eta -:--:--\n",
            "   ---- ---------------------------------- 30.7/294.9 kB 325.1 kB/s eta 0:00:01\n",
            "   ------------ -------------------------- 92.2/294.9 kB 744.7 kB/s eta 0:00:01\n",
            "   ---------------------------------- ----- 256.0/294.9 kB 1.7 MB/s eta 0:00:01\n",
            "   ---------------------------------------- 294.9/294.9 kB 1.7 MB/s eta 0:00:00\n",
            "Using cached xgboost-3.0.5-py3-none-win_amd64.whl (56.8 MB)\n",
            "Installing collected packages: xgboost, seaborn\n",
            "Successfully installed seaborn-0.13.2 xgboost-3.0.5\n",
            "Note: you may need to restart the kernel to use updated packages.\n"
          ]
        }
      ],
      "source": [
        "#%pip install seaborn matplotlib pandas numpy scikit-learn xgboost"
      ]
    },
    {
      "cell_type": "code",
      "execution_count": 3,
      "metadata": {},
      "outputs": [
        {
          "name": "stdout",
          "output_type": "stream",
          "text": [
            "Collecting tensorflow-privacy==0.9.0\n",
            "  Using cached tensorflow_privacy-0.9.0-py3-none-any.whl.metadata (763 bytes)\n",
            "Requirement already satisfied: absl-py==1.*,>=1.0 in c:\\users\\river\\appdata\\local\\packages\\pythonsoftwarefoundation.python.3.11_qbz5n2kfra8p0\\localcache\\local-packages\\python311\\site-packages (from tensorflow-privacy==0.9.0) (1.4.0)\n",
            "Requirement already satisfied: dm-tree==0.1.8 in c:\\users\\river\\appdata\\local\\packages\\pythonsoftwarefoundation.python.3.11_qbz5n2kfra8p0\\localcache\\local-packages\\python311\\site-packages (from tensorflow-privacy==0.9.0) (0.1.8)\n",
            "Requirement already satisfied: dp-accounting==0.4.3 in c:\\users\\river\\appdata\\local\\packages\\pythonsoftwarefoundation.python.3.11_qbz5n2kfra8p0\\localcache\\local-packages\\python311\\site-packages (from tensorflow-privacy==0.9.0) (0.4.3)\n",
            "Requirement already satisfied: numpy~=1.21 in c:\\users\\river\\appdata\\local\\packages\\pythonsoftwarefoundation.python.3.11_qbz5n2kfra8p0\\localcache\\local-packages\\python311\\site-packages (from tensorflow-privacy==0.9.0) (1.26.4)\n",
            "Requirement already satisfied: packaging~=22.0 in c:\\users\\river\\appdata\\local\\packages\\pythonsoftwarefoundation.python.3.11_qbz5n2kfra8p0\\localcache\\local-packages\\python311\\site-packages (from tensorflow-privacy==0.9.0) (22.0)\n",
            "Requirement already satisfied: scikit-learn==1.*,>=1.0 in c:\\users\\river\\appdata\\local\\packages\\pythonsoftwarefoundation.python.3.11_qbz5n2kfra8p0\\localcache\\local-packages\\python311\\site-packages (from tensorflow-privacy==0.9.0) (1.7.2)\n",
            "Requirement already satisfied: scipy~=1.9 in c:\\users\\river\\appdata\\local\\packages\\pythonsoftwarefoundation.python.3.11_qbz5n2kfra8p0\\localcache\\local-packages\\python311\\site-packages (from tensorflow-privacy==0.9.0) (1.16.2)\n",
            "Requirement already satisfied: tensorflow-estimator~=2.4 in c:\\users\\river\\appdata\\local\\packages\\pythonsoftwarefoundation.python.3.11_qbz5n2kfra8p0\\localcache\\local-packages\\python311\\site-packages (from tensorflow-privacy==0.9.0) (2.15.0)\n",
            "Requirement already satisfied: tensorflow-probability~=0.22.0 in c:\\users\\river\\appdata\\local\\packages\\pythonsoftwarefoundation.python.3.11_qbz5n2kfra8p0\\localcache\\local-packages\\python311\\site-packages (from tensorflow-privacy==0.9.0) (0.22.1)\n",
            "Requirement already satisfied: tensorflow~=2.4 in c:\\users\\river\\appdata\\local\\packages\\pythonsoftwarefoundation.python.3.11_qbz5n2kfra8p0\\localcache\\local-packages\\python311\\site-packages (from tensorflow-privacy==0.9.0) (2.15.0)\n",
            "Requirement already satisfied: attrs>=22 in c:\\users\\river\\appdata\\local\\packages\\pythonsoftwarefoundation.python.3.11_qbz5n2kfra8p0\\localcache\\local-packages\\python311\\site-packages (from dp-accounting==0.4.3->tensorflow-privacy==0.9.0) (25.3.0)\n",
            "Requirement already satisfied: mpmath~=1.2 in c:\\users\\river\\appdata\\local\\packages\\pythonsoftwarefoundation.python.3.11_qbz5n2kfra8p0\\localcache\\local-packages\\python311\\site-packages (from dp-accounting==0.4.3->tensorflow-privacy==0.9.0) (1.3.0)\n",
            "Requirement already satisfied: joblib>=1.2.0 in c:\\users\\river\\appdata\\local\\packages\\pythonsoftwarefoundation.python.3.11_qbz5n2kfra8p0\\localcache\\local-packages\\python311\\site-packages (from scikit-learn==1.*,>=1.0->tensorflow-privacy==0.9.0) (1.5.2)\n",
            "Requirement already satisfied: threadpoolctl>=3.1.0 in c:\\users\\river\\appdata\\local\\packages\\pythonsoftwarefoundation.python.3.11_qbz5n2kfra8p0\\localcache\\local-packages\\python311\\site-packages (from scikit-learn==1.*,>=1.0->tensorflow-privacy==0.9.0) (3.6.0)\n",
            "Requirement already satisfied: tensorflow-intel==2.15.0 in c:\\users\\river\\appdata\\local\\packages\\pythonsoftwarefoundation.python.3.11_qbz5n2kfra8p0\\localcache\\local-packages\\python311\\site-packages (from tensorflow~=2.4->tensorflow-privacy==0.9.0) (2.15.0)\n",
            "Requirement already satisfied: astunparse>=1.6.0 in c:\\users\\river\\appdata\\local\\packages\\pythonsoftwarefoundation.python.3.11_qbz5n2kfra8p0\\localcache\\local-packages\\python311\\site-packages (from tensorflow-intel==2.15.0->tensorflow~=2.4->tensorflow-privacy==0.9.0) (1.6.3)\n",
            "Requirement already satisfied: flatbuffers>=23.5.26 in c:\\users\\river\\appdata\\local\\packages\\pythonsoftwarefoundation.python.3.11_qbz5n2kfra8p0\\localcache\\local-packages\\python311\\site-packages (from tensorflow-intel==2.15.0->tensorflow~=2.4->tensorflow-privacy==0.9.0) (25.9.23)\n",
            "Requirement already satisfied: gast!=0.5.0,!=0.5.1,!=0.5.2,>=0.2.1 in c:\\users\\river\\appdata\\local\\packages\\pythonsoftwarefoundation.python.3.11_qbz5n2kfra8p0\\localcache\\local-packages\\python311\\site-packages (from tensorflow-intel==2.15.0->tensorflow~=2.4->tensorflow-privacy==0.9.0) (0.6.0)\n",
            "Requirement already satisfied: google-pasta>=0.1.1 in c:\\users\\river\\appdata\\local\\packages\\pythonsoftwarefoundation.python.3.11_qbz5n2kfra8p0\\localcache\\local-packages\\python311\\site-packages (from tensorflow-intel==2.15.0->tensorflow~=2.4->tensorflow-privacy==0.9.0) (0.2.0)\n",
            "Requirement already satisfied: h5py>=2.9.0 in c:\\users\\river\\appdata\\local\\packages\\pythonsoftwarefoundation.python.3.11_qbz5n2kfra8p0\\localcache\\local-packages\\python311\\site-packages (from tensorflow-intel==2.15.0->tensorflow~=2.4->tensorflow-privacy==0.9.0) (3.15.0)\n",
            "Requirement already satisfied: libclang>=13.0.0 in c:\\users\\river\\appdata\\local\\packages\\pythonsoftwarefoundation.python.3.11_qbz5n2kfra8p0\\localcache\\local-packages\\python311\\site-packages (from tensorflow-intel==2.15.0->tensorflow~=2.4->tensorflow-privacy==0.9.0) (18.1.1)\n",
            "Requirement already satisfied: ml-dtypes~=0.2.0 in c:\\users\\river\\appdata\\local\\packages\\pythonsoftwarefoundation.python.3.11_qbz5n2kfra8p0\\localcache\\local-packages\\python311\\site-packages (from tensorflow-intel==2.15.0->tensorflow~=2.4->tensorflow-privacy==0.9.0) (0.2.0)\n",
            "Requirement already satisfied: opt-einsum>=2.3.2 in c:\\users\\river\\appdata\\local\\packages\\pythonsoftwarefoundation.python.3.11_qbz5n2kfra8p0\\localcache\\local-packages\\python311\\site-packages (from tensorflow-intel==2.15.0->tensorflow~=2.4->tensorflow-privacy==0.9.0) (3.4.0)\n",
            "Requirement already satisfied: protobuf!=4.21.0,!=4.21.1,!=4.21.2,!=4.21.3,!=4.21.4,!=4.21.5,<5.0.0dev,>=3.20.3 in c:\\users\\river\\appdata\\local\\packages\\pythonsoftwarefoundation.python.3.11_qbz5n2kfra8p0\\localcache\\local-packages\\python311\\site-packages (from tensorflow-intel==2.15.0->tensorflow~=2.4->tensorflow-privacy==0.9.0) (4.25.8)\n",
            "Requirement already satisfied: setuptools in c:\\program files\\windowsapps\\pythonsoftwarefoundation.python.3.11_3.11.2544.0_x64__qbz5n2kfra8p0\\lib\\site-packages (from tensorflow-intel==2.15.0->tensorflow~=2.4->tensorflow-privacy==0.9.0) (65.5.0)\n",
            "Requirement already satisfied: six>=1.12.0 in c:\\users\\river\\appdata\\local\\packages\\pythonsoftwarefoundation.python.3.11_qbz5n2kfra8p0\\localcache\\local-packages\\python311\\site-packages (from tensorflow-intel==2.15.0->tensorflow~=2.4->tensorflow-privacy==0.9.0) (1.17.0)\n",
            "Requirement already satisfied: termcolor>=1.1.0 in c:\\users\\river\\appdata\\local\\packages\\pythonsoftwarefoundation.python.3.11_qbz5n2kfra8p0\\localcache\\local-packages\\python311\\site-packages (from tensorflow-intel==2.15.0->tensorflow~=2.4->tensorflow-privacy==0.9.0) (3.1.0)\n",
            "Requirement already satisfied: typing-extensions>=3.6.6 in c:\\users\\river\\appdata\\local\\packages\\pythonsoftwarefoundation.python.3.11_qbz5n2kfra8p0\\localcache\\local-packages\\python311\\site-packages (from tensorflow-intel==2.15.0->tensorflow~=2.4->tensorflow-privacy==0.9.0) (4.15.0)\n",
            "Requirement already satisfied: wrapt<1.15,>=1.11.0 in c:\\users\\river\\appdata\\local\\packages\\pythonsoftwarefoundation.python.3.11_qbz5n2kfra8p0\\localcache\\local-packages\\python311\\site-packages (from tensorflow-intel==2.15.0->tensorflow~=2.4->tensorflow-privacy==0.9.0) (1.14.2)\n",
            "Requirement already satisfied: tensorflow-io-gcs-filesystem>=0.23.1 in c:\\users\\river\\appdata\\local\\packages\\pythonsoftwarefoundation.python.3.11_qbz5n2kfra8p0\\localcache\\local-packages\\python311\\site-packages (from tensorflow-intel==2.15.0->tensorflow~=2.4->tensorflow-privacy==0.9.0) (0.31.0)\n",
            "Requirement already satisfied: grpcio<2.0,>=1.24.3 in c:\\users\\river\\appdata\\local\\packages\\pythonsoftwarefoundation.python.3.11_qbz5n2kfra8p0\\localcache\\local-packages\\python311\\site-packages (from tensorflow-intel==2.15.0->tensorflow~=2.4->tensorflow-privacy==0.9.0) (1.75.1)\n",
            "Requirement already satisfied: tensorboard<2.16,>=2.15 in c:\\users\\river\\appdata\\local\\packages\\pythonsoftwarefoundation.python.3.11_qbz5n2kfra8p0\\localcache\\local-packages\\python311\\site-packages (from tensorflow-intel==2.15.0->tensorflow~=2.4->tensorflow-privacy==0.9.0) (2.15.2)\n",
            "Requirement already satisfied: keras<2.16,>=2.15.0 in c:\\users\\river\\appdata\\local\\packages\\pythonsoftwarefoundation.python.3.11_qbz5n2kfra8p0\\localcache\\local-packages\\python311\\site-packages (from tensorflow-intel==2.15.0->tensorflow~=2.4->tensorflow-privacy==0.9.0) (2.15.0)\n",
            "Requirement already satisfied: decorator in c:\\users\\river\\appdata\\local\\packages\\pythonsoftwarefoundation.python.3.11_qbz5n2kfra8p0\\localcache\\local-packages\\python311\\site-packages (from tensorflow-probability~=0.22.0->tensorflow-privacy==0.9.0) (5.2.1)\n",
            "Requirement already satisfied: cloudpickle>=1.3 in c:\\users\\river\\appdata\\local\\packages\\pythonsoftwarefoundation.python.3.11_qbz5n2kfra8p0\\localcache\\local-packages\\python311\\site-packages (from tensorflow-probability~=0.22.0->tensorflow-privacy==0.9.0) (3.1.1)\n",
            "Requirement already satisfied: wheel<1.0,>=0.23.0 in c:\\users\\river\\appdata\\local\\packages\\pythonsoftwarefoundation.python.3.11_qbz5n2kfra8p0\\localcache\\local-packages\\python311\\site-packages (from astunparse>=1.6.0->tensorflow-intel==2.15.0->tensorflow~=2.4->tensorflow-privacy==0.9.0) (0.45.1)\n",
            "Requirement already satisfied: google-auth<3,>=1.6.3 in c:\\users\\river\\appdata\\local\\packages\\pythonsoftwarefoundation.python.3.11_qbz5n2kfra8p0\\localcache\\local-packages\\python311\\site-packages (from tensorboard<2.16,>=2.15->tensorflow-intel==2.15.0->tensorflow~=2.4->tensorflow-privacy==0.9.0) (2.41.1)\n",
            "Requirement already satisfied: google-auth-oauthlib<2,>=0.5 in c:\\users\\river\\appdata\\local\\packages\\pythonsoftwarefoundation.python.3.11_qbz5n2kfra8p0\\localcache\\local-packages\\python311\\site-packages (from tensorboard<2.16,>=2.15->tensorflow-intel==2.15.0->tensorflow~=2.4->tensorflow-privacy==0.9.0) (1.2.2)\n",
            "Requirement already satisfied: markdown>=2.6.8 in c:\\users\\river\\appdata\\local\\packages\\pythonsoftwarefoundation.python.3.11_qbz5n2kfra8p0\\localcache\\local-packages\\python311\\site-packages (from tensorboard<2.16,>=2.15->tensorflow-intel==2.15.0->tensorflow~=2.4->tensorflow-privacy==0.9.0) (3.9)\n",
            "Requirement already satisfied: requests<3,>=2.21.0 in c:\\users\\river\\appdata\\local\\packages\\pythonsoftwarefoundation.python.3.11_qbz5n2kfra8p0\\localcache\\local-packages\\python311\\site-packages (from tensorboard<2.16,>=2.15->tensorflow-intel==2.15.0->tensorflow~=2.4->tensorflow-privacy==0.9.0) (2.32.4)\n",
            "Requirement already satisfied: tensorboard-data-server<0.8.0,>=0.7.0 in c:\\users\\river\\appdata\\local\\packages\\pythonsoftwarefoundation.python.3.11_qbz5n2kfra8p0\\localcache\\local-packages\\python311\\site-packages (from tensorboard<2.16,>=2.15->tensorflow-intel==2.15.0->tensorflow~=2.4->tensorflow-privacy==0.9.0) (0.7.2)\n",
            "Requirement already satisfied: werkzeug>=1.0.1 in c:\\users\\river\\appdata\\local\\packages\\pythonsoftwarefoundation.python.3.11_qbz5n2kfra8p0\\localcache\\local-packages\\python311\\site-packages (from tensorboard<2.16,>=2.15->tensorflow-intel==2.15.0->tensorflow~=2.4->tensorflow-privacy==0.9.0) (3.1.3)\n",
            "Requirement already satisfied: cachetools<7.0,>=2.0.0 in c:\\users\\river\\appdata\\local\\packages\\pythonsoftwarefoundation.python.3.11_qbz5n2kfra8p0\\localcache\\local-packages\\python311\\site-packages (from google-auth<3,>=1.6.3->tensorboard<2.16,>=2.15->tensorflow-intel==2.15.0->tensorflow~=2.4->tensorflow-privacy==0.9.0) (6.2.1)\n",
            "Requirement already satisfied: pyasn1-modules>=0.2.1 in c:\\users\\river\\appdata\\local\\packages\\pythonsoftwarefoundation.python.3.11_qbz5n2kfra8p0\\localcache\\local-packages\\python311\\site-packages (from google-auth<3,>=1.6.3->tensorboard<2.16,>=2.15->tensorflow-intel==2.15.0->tensorflow~=2.4->tensorflow-privacy==0.9.0) (0.4.2)\n",
            "Requirement already satisfied: rsa<5,>=3.1.4 in c:\\users\\river\\appdata\\local\\packages\\pythonsoftwarefoundation.python.3.11_qbz5n2kfra8p0\\localcache\\local-packages\\python311\\site-packages (from google-auth<3,>=1.6.3->tensorboard<2.16,>=2.15->tensorflow-intel==2.15.0->tensorflow~=2.4->tensorflow-privacy==0.9.0) (4.9.1)\n",
            "Requirement already satisfied: requests-oauthlib>=0.7.0 in c:\\users\\river\\appdata\\local\\packages\\pythonsoftwarefoundation.python.3.11_qbz5n2kfra8p0\\localcache\\local-packages\\python311\\site-packages (from google-auth-oauthlib<2,>=0.5->tensorboard<2.16,>=2.15->tensorflow-intel==2.15.0->tensorflow~=2.4->tensorflow-privacy==0.9.0) (2.0.0)\n",
            "Requirement already satisfied: charset_normalizer<4,>=2 in c:\\users\\river\\appdata\\local\\packages\\pythonsoftwarefoundation.python.3.11_qbz5n2kfra8p0\\localcache\\local-packages\\python311\\site-packages (from requests<3,>=2.21.0->tensorboard<2.16,>=2.15->tensorflow-intel==2.15.0->tensorflow~=2.4->tensorflow-privacy==0.9.0) (3.4.2)\n",
            "Requirement already satisfied: idna<4,>=2.5 in c:\\users\\river\\appdata\\local\\packages\\pythonsoftwarefoundation.python.3.11_qbz5n2kfra8p0\\localcache\\local-packages\\python311\\site-packages (from requests<3,>=2.21.0->tensorboard<2.16,>=2.15->tensorflow-intel==2.15.0->tensorflow~=2.4->tensorflow-privacy==0.9.0) (3.10)\n",
            "Requirement already satisfied: urllib3<3,>=1.21.1 in c:\\users\\river\\appdata\\local\\packages\\pythonsoftwarefoundation.python.3.11_qbz5n2kfra8p0\\localcache\\local-packages\\python311\\site-packages (from requests<3,>=2.21.0->tensorboard<2.16,>=2.15->tensorflow-intel==2.15.0->tensorflow~=2.4->tensorflow-privacy==0.9.0) (2.5.0)\n",
            "Requirement already satisfied: certifi>=2017.4.17 in c:\\users\\river\\appdata\\local\\packages\\pythonsoftwarefoundation.python.3.11_qbz5n2kfra8p0\\localcache\\local-packages\\python311\\site-packages (from requests<3,>=2.21.0->tensorboard<2.16,>=2.15->tensorflow-intel==2.15.0->tensorflow~=2.4->tensorflow-privacy==0.9.0) (2025.6.15)\n",
            "Requirement already satisfied: MarkupSafe>=2.1.1 in c:\\users\\river\\appdata\\local\\packages\\pythonsoftwarefoundation.python.3.11_qbz5n2kfra8p0\\localcache\\local-packages\\python311\\site-packages (from werkzeug>=1.0.1->tensorboard<2.16,>=2.15->tensorflow-intel==2.15.0->tensorflow~=2.4->tensorflow-privacy==0.9.0) (3.0.2)\n",
            "Requirement already satisfied: pyasn1<0.7.0,>=0.6.1 in c:\\users\\river\\appdata\\local\\packages\\pythonsoftwarefoundation.python.3.11_qbz5n2kfra8p0\\localcache\\local-packages\\python311\\site-packages (from pyasn1-modules>=0.2.1->google-auth<3,>=1.6.3->tensorboard<2.16,>=2.15->tensorflow-intel==2.15.0->tensorflow~=2.4->tensorflow-privacy==0.9.0) (0.6.1)\n",
            "Requirement already satisfied: oauthlib>=3.0.0 in c:\\users\\river\\appdata\\local\\packages\\pythonsoftwarefoundation.python.3.11_qbz5n2kfra8p0\\localcache\\local-packages\\python311\\site-packages (from requests-oauthlib>=0.7.0->google-auth-oauthlib<2,>=0.5->tensorboard<2.16,>=2.15->tensorflow-intel==2.15.0->tensorflow~=2.4->tensorflow-privacy==0.9.0) (3.3.1)\n",
            "Using cached tensorflow_privacy-0.9.0-py3-none-any.whl (323 kB)\n",
            "Installing collected packages: tensorflow-privacy\n",
            "Successfully installed tensorflow-privacy-0.9.0\n",
            "Note: you may need to restart the kernel to use updated packages.\n"
          ]
        },
        {
          "name": "stderr",
          "output_type": "stream",
          "text": [
            "\n",
            "[notice] A new release of pip is available: 24.0 -> 25.2\n",
            "[notice] To update, run: C:\\Users\\river\\AppData\\Local\\Microsoft\\WindowsApps\\PythonSoftwareFoundation.Python.3.11_qbz5n2kfra8p0\\python.exe -m pip install --upgrade pip\n"
          ]
        }
      ],
      "source": [
        "%pip install tensorflow-privacy==0.9.0"
      ]
    },
    {
      "cell_type": "code",
      "execution_count": null,
      "metadata": {},
      "outputs": [
        {
          "name": "stderr",
          "output_type": "stream",
          "text": [
            "C:\\Users\\river\\AppData\\Local\\Packages\\PythonSoftwareFoundation.Python.3.11_qbz5n2kfra8p0\\LocalCache\\local-packages\\Python311\\site-packages\\pydantic\\_internal\\_generate_schema.py:2249: UnsupportedFieldAttributeWarning: The 'repr' attribute with value False was provided to the `Field()` function, which has no effect in the context it was used. 'repr' is field-specific metadata, and can only be attached to a model field using `Annotated` metadata or by assignment. This may have happened because an `Annotated` type alias using the `type` statement was used, or if the `Field()` function was attached to a single member of a union type.\n",
            "  warnings.warn(\n",
            "C:\\Users\\river\\AppData\\Local\\Packages\\PythonSoftwareFoundation.Python.3.11_qbz5n2kfra8p0\\LocalCache\\local-packages\\Python311\\site-packages\\pydantic\\_internal\\_generate_schema.py:2249: UnsupportedFieldAttributeWarning: The 'frozen' attribute with value True was provided to the `Field()` function, which has no effect in the context it was used. 'frozen' is field-specific metadata, and can only be attached to a model field using `Annotated` metadata or by assignment. This may have happened because an `Annotated` type alias using the `type` statement was used, or if the `Field()` function was attached to a single member of a union type.\n",
            "  warnings.warn(\n"
          ]
        },
        {
          "name": "stdout",
          "output_type": "stream",
          "text": [
            "WARNING:tensorflow:From C:\\Users\\river\\AppData\\Local\\Packages\\PythonSoftwareFoundation.Python.3.11_qbz5n2kfra8p0\\LocalCache\\local-packages\\Python311\\site-packages\\keras\\src\\losses.py:2976: The name tf.losses.sparse_softmax_cross_entropy is deprecated. Please use tf.compat.v1.losses.sparse_softmax_cross_entropy instead.\n",
            "\n",
            "WARNING:tensorflow:From C:\\Users\\river\\AppData\\Local\\Packages\\PythonSoftwareFoundation.Python.3.11_qbz5n2kfra8p0\\LocalCache\\local-packages\\Python311\\site-packages\\tensorflow_estimator\\python\\estimator\\util.py:74: The name tf.train.SessionRunHook is deprecated. Please use tf.estimator.SessionRunHook instead.\n",
            "\n",
            "WARNING:tensorflow:From C:\\Users\\river\\AppData\\Local\\Packages\\PythonSoftwareFoundation.Python.3.11_qbz5n2kfra8p0\\LocalCache\\local-packages\\Python311\\site-packages\\tensorflow_probability\\python\\internal\\backend\\numpy\\_utils.py:48: The name tf.logging.TaskLevelStatusMessage is deprecated. Please use tf.compat.v1.logging.TaskLevelStatusMessage instead.\n",
            "\n",
            "WARNING:tensorflow:From C:\\Users\\river\\AppData\\Local\\Packages\\PythonSoftwareFoundation.Python.3.11_qbz5n2kfra8p0\\LocalCache\\local-packages\\Python311\\site-packages\\tensorflow_probability\\python\\internal\\backend\\numpy\\_utils.py:48: The name tf.control_flow_v2_enabled is deprecated. Please use tf.compat.v1.control_flow_v2_enabled instead.\n",
            "\n"
          ]
        }
      ],
      "source": [
        "import os\n",
        "from dotenv import load_dotenv\n",
        "import pandas as pd\n",
        "import numpy as np\n",
        "import wandb\n",
        "import lakefs\n",
        "from pathlib import Path\n",
        "import matplotlib.pyplot as plt\n",
        "import seaborn as sns\n",
        "import tensorflow as tf\n",
        "from tensorflow import keras\n",
        "from tensorflow_privacy.privacy.analysis.compute_dp_sgd_privacy_lib import compute_dp_sgd_privacy_statement\n",
        "from tensorflow_privacy import DPKerasSGDOptimizer\n",
        "from sklearn.preprocessing import StandardScaler\n",
        "from sklearn.model_selection import train_test_split\n",
        "import xgboost as xgb\n",
        "from sklearn.metrics import mean_squared_error, r2_score, mean_absolute_error\n",
        "import joblib"
      ]
    },
    {
      "cell_type": "markdown",
      "metadata": {},
      "source": [
        "# Tool1 - lakefs"
      ]
    },
    {
      "cell_type": "markdown",
      "metadata": {},
      "source": [
        "### Check current directory"
      ]
    },
    {
      "cell_type": "code",
      "execution_count": 2,
      "metadata": {},
      "outputs": [
        {
          "name": "stdout",
          "output_type": "stream",
          "text": [
            "Current directory: c:\\Users\\river\\OneDrive\\Documents\\Data Science\\Masters Science - DS\\5th Quarter\\MLOPS\\Assignments\\Assign_1\n",
            ".env exists: True\n"
          ]
        },
        {
          "data": {
            "text/plain": [
              "True"
            ]
          },
          "execution_count": 2,
          "metadata": {},
          "output_type": "execute_result"
        }
      ],
      "source": [
        "print(f\"Current directory: {os.getcwd()}\")\n",
        "print(f\".env exists: {Path('.env').exists()}\")\n",
        "load_dotenv()"
      ]
    },
    {
      "cell_type": "code",
      "execution_count": 3,
      "metadata": {
        "id": "4sN7OOf93b5l"
      },
      "outputs": [
        {
          "name": "stdout",
          "output_type": "stream",
          "text": [
            "v1 shape: (423006, 27)\n",
            "   athlete_id           name               region          team  \\\n",
            "0      2554.0      Pj Ablang           South West   Double Edge   \n",
            "1      3517.0  Derek Abdella                  NaN           NaN   \n",
            "2      4691.0            NaN                  NaN           NaN   \n",
            "3      5164.0    Abo Brandon  Southern California  LAX CrossFit   \n",
            "4      5286.0    Bryce Abbey                  NaN           NaN   \n",
            "\n",
            "              affiliate gender   age  height  weight   fran  ...  snatch  \\\n",
            "0  Double Edge CrossFit   Male  24.0    70.0   166.0    NaN  ...     NaN   \n",
            "1                   NaN   Male  42.0    70.0   190.0    NaN  ...     NaN   \n",
            "2                   NaN    NaN   NaN     NaN     NaN    NaN  ...     NaN   \n",
            "3          LAX CrossFit   Male  40.0    67.0     NaN  211.0  ...   200.0   \n",
            "4                   NaN   Male  32.0    65.0   149.0  206.0  ...   150.0   \n",
            "\n",
            "   deadlift  backsq  pullups  \\\n",
            "0     400.0   305.0      NaN   \n",
            "1       NaN     NaN      NaN   \n",
            "2       NaN     NaN      NaN   \n",
            "3     375.0   325.0     25.0   \n",
            "4       NaN   325.0     50.0   \n",
            "\n",
            "                                                 eat  \\\n",
            "0                                                NaN   \n",
            "1                                                NaN   \n",
            "2                                                NaN   \n",
            "3               I eat 1-3 full cheat meals per week|   \n",
            "4  I eat quality foods but don't measure the amount|   \n",
            "\n",
            "                                               train  \\\n",
            "0  I workout mostly at a CrossFit Affiliate|I hav...   \n",
            "1  I have a coach who determines my programming|I...   \n",
            "2                                                NaN   \n",
            "3  I workout mostly at a CrossFit Affiliate|I hav...   \n",
            "4  I workout mostly at a CrossFit Affiliate|I inc...   \n",
            "\n",
            "                                          background  \\\n",
            "0  I played youth or high school level sports|I r...   \n",
            "1        I played youth or high school level sports|   \n",
            "2                                                NaN   \n",
            "3        I played youth or high school level sports|   \n",
            "4                           I played college sports|   \n",
            "\n",
            "                                          experience  \\\n",
            "0  I began CrossFit with a coach (e.g. at an affi...   \n",
            "1  I began CrossFit with a coach (e.g. at an affi...   \n",
            "2                                                NaN   \n",
            "3  I began CrossFit by trying it alone (without a...   \n",
            "4  I began CrossFit by trying it alone (without a...   \n",
            "\n",
            "                                            schedule     howlong  \n",
            "0         I do multiple workouts in a day 2x a week|   4+ years|  \n",
            "1         I do multiple workouts in a day 2x a week|   4+ years|  \n",
            "2                                                NaN         NaN  \n",
            "3                 I usually only do 1 workout a day|   4+ years|  \n",
            "4  I usually only do 1 workout a day|I strictly s...  1-2 years|  \n",
            "\n",
            "[5 rows x 27 columns]\n"
          ]
        }
      ],
      "source": [
        "data_v1 = pd.read_csv('athletes.csv')\n",
        "print(f\"v1 shape: {data_v1.shape}\")\n",
        "print(data_v1.head())"
      ]
    },
    {
      "cell_type": "code",
      "execution_count": 8,
      "metadata": {},
      "outputs": [
        {
          "name": "stdout",
          "output_type": "stream",
          "text": [
            "Repository 'athletes-data-assign1-srivera' created\n"
          ]
        }
      ],
      "source": [
        "# Initialize client\n",
        "client = lakefs.Client(\n",
        "    host=os.getenv('LAKEFS_ENDPOINT'),\n",
        "    username=os.getenv('LAKEFS_ACCESS_KEY'),\n",
        "    password=os.getenv('LAKEFS_SECRET_KEY')\n",
        ")\n",
        "\n",
        "# Get or create repository\n",
        "repo_name = \"athletes-data-assign1-srivera\"\n",
        "\n",
        "# For cloud, use the storage namespace from your LakeFS cloud setup\n",
        "repo = lakefs.Repository(repo_name, client=client).create(\n",
        "    storage_namespace=f\"s3://lakefs-sample-us-east-1-production/AROA5OU4KHZHHFCX4PTOM:ffae97af0adb7b31e0f7f5393d3fec7a6397e4000240d0304cb91c2e1beaa69d/1779//{repo_name}\"\n",
        ")\n",
        "print(f\"Repository '{repo_name}' created\")"
      ]
    },
    {
      "cell_type": "markdown",
      "metadata": {
        "id": "W6uXCoZLE7lg"
      },
      "source": [
        "## V1 data lake fs version"
      ]
    },
    {
      "cell_type": "code",
      "execution_count": 9,
      "metadata": {},
      "outputs": [],
      "source": [
        "# v1: Add total_lift\n",
        "data_v1['total_lift'] = data_v1['deadlift'] + data_v1['candj'] + data_v1['snatch'] + data_v1['backsq']\n"
      ]
    },
    {
      "cell_type": "code",
      "execution_count": 10,
      "metadata": {},
      "outputs": [
        {
          "name": "stdout",
          "output_type": "stream",
          "text": [
            "v1 registered to LakeFS main branch\n"
          ]
        }
      ],
      "source": [
        "# Save and upload v1 to LakeFS with total_lift\n",
        "data_v1.to_csv('athletes_v1.csv', index=False)\n",
        "with open('athletes_v1.csv', 'rb') as f:\n",
        "    repo.branch(\"main\").object(\"athletes_v1.csv\").upload(data=f.read())\n",
        "repo.branch(\"main\").commit(message=\"Add v1 raw dataset with total_lift\")\n",
        "print(\"v1 registered to LakeFS main branch\")"
      ]
    },
    {
      "cell_type": "code",
      "execution_count": 11,
      "metadata": {},
      "outputs": [
        {
          "name": "stdout",
          "output_type": "stream",
          "text": [
            "v1 - Train: (338404, 7), Test: (84602, 7)\n"
          ]
        }
      ],
      "source": [
        "# v1: Train/test split\n",
        "X_v1 = data_v1[['age', 'weight', 'height', 'deadlift', 'candj', 'snatch', 'backsq']]\n",
        "y_v1 = data_v1['total_lift']\n",
        "X_train_v1, X_test_v1, y_train_v1, y_test_v1 = train_test_split(X_v1, y_v1, test_size=0.2, random_state=42)\n",
        "print(f\"v1 - Train: {X_train_v1.shape}, Test: {X_test_v1.shape}\")"
      ]
    },
    {
      "cell_type": "markdown",
      "metadata": {},
      "source": [
        "## V2 DATA VERSION"
      ]
    },
    {
      "cell_type": "code",
      "execution_count": 12,
      "metadata": {},
      "outputs": [],
      "source": [
        "# v2: Clean data\n",
        "data_v2 = data_v1.copy()\n",
        "\n",
        "data_v2 = data_v2.dropna(subset=['region','age','weight','height','howlong','gender','eat',\n",
        "                        'train','background','experience','schedule','howlong',\n",
        "                        'deadlift','candj','snatch','backsq','experience',\n",
        "                        'background','schedule','howlong'])\n",
        "data_v2 = data_v2.drop(columns=['affiliate','team','name','athlete_id','fran','helen','grace',\n",
        "                        'filthy50','fgonebad','run400','run5k','pullups','train'])\n",
        "\n",
        "data_v2 = data_v2[data_v2['weight'] < 1500]\n",
        "data_v2 = data_v2[data_v2['gender'] != '--']\n",
        "data_v2 = data_v2[data_v2['age'] >= 18]\n",
        "data_v2 = data_v2[(data_v2['height'] < 96) & (data_v2['height'] > 48)]\n",
        "\n",
        "data_v2 = data_v2[(data_v2['deadlift'] > 0) & (data_v2['deadlift'] <= 1105)|((data_v2['gender'] == 'Female')\n",
        "            & (data_v2['deadlift'] <= 636))]\n",
        "data_v2 = data_v2[(data_v2['candj'] > 0) & (data_v2['candj'] <= 395)]\n",
        "data_v2 = data_v2[(data_v2['snatch'] > 0) & (data_v2['snatch'] <= 496)]\n",
        "data_v2 = data_v2[(data_v2['backsq'] > 0) & (data_v2['backsq'] <= 1069)]\n",
        "\n",
        "decline_dict = {'Decline to answer|': np.nan}\n",
        "data_v2 = data_v2.replace(decline_dict)\n",
        "data_v2 = data_v2.dropna(subset=['background','experience','schedule','howlong','eat'])\n",
        "\n",
        "# v2: Add total_lift\n",
        "data_v2['total_lift'] = data_v2['deadlift'] + data_v2['candj'] + data_v2['snatch'] + data_v2['backsq']"
      ]
    },
    {
      "cell_type": "code",
      "execution_count": 13,
      "metadata": {},
      "outputs": [
        {
          "name": "stdout",
          "output_type": "stream",
          "text": [
            "v2 registered to LakeFS v2 branch\n"
          ]
        }
      ],
      "source": [
        "# Save and upload v2 to LakeFS\n",
        "data_v2.to_csv('athletes_v2.csv', index=False)\n",
        "repo.branch(\"v2\").create(source_reference=\"main\")\n",
        "with open('athletes_v2.csv', 'rb') as f:\n",
        "    repo.branch(\"v2\").object(\"athletes_v2.csv\").upload(data=f.read())\n",
        "repo.branch(\"v2\").commit(message=\"Add v2 cleaned dataset with total_lift\")\n",
        "print(\"v2 registered to LakeFS v2 branch\")\n"
      ]
    },
    {
      "cell_type": "code",
      "execution_count": 6,
      "metadata": {},
      "outputs": [
        {
          "name": "stdout",
          "output_type": "stream",
          "text": [
            "v2 - Train: (24023, 7), Test: (6006, 7)\n"
          ]
        }
      ],
      "source": [
        "# v2: Train/test split\n",
        "X_v2 = data_v2[['age', 'weight', 'height', 'deadlift', 'candj', 'snatch', 'backsq']]\n",
        "y_v2 = data_v2['total_lift']\n",
        "X_train_v2, X_test_v2, y_train_v2, y_test_v2 = train_test_split(X_v2, y_v2, test_size=0.2, random_state=42)\n",
        "print(f\"v2 - Train: {X_train_v2.shape}, Test: {X_test_v2.shape}\")"
      ]
    },
    {
      "cell_type": "markdown",
      "metadata": {},
      "source": [
        "# EDA V1"
      ]
    },
    {
      "cell_type": "code",
      "execution_count": null,
      "metadata": {},
      "outputs": [
        {
          "name": "stdout",
          "output_type": "stream",
          "text": [
            "=== V1 Dataset Statistics ===\n",
            "          athlete_id            age        height         weight  \\\n",
            "count  423003.000000  331110.000000  1.598690e+05  229890.000000   \n",
            "mean   292748.166538      32.516750  1.206217e+02     170.896137   \n",
            "std    184969.660327       7.730671  2.097995e+04      58.379799   \n",
            "min        82.000000      13.000000  0.000000e+00       1.000000   \n",
            "25%    135091.500000      27.000000  6.600000e+01     145.000000   \n",
            "50%    275839.000000      31.000000  6.900000e+01     170.000000   \n",
            "75%    473188.000000      37.000000  7.200000e+01     192.000000   \n",
            "max    633083.000000     125.000000  8.388607e+06   20175.000000   \n",
            "\n",
            "               fran         helen         grace      filthy50      fgonebad  \\\n",
            "count  5.542600e+04  3.027900e+04  4.074500e+04  1.935900e+04  2.973800e+04   \n",
            "mean   9.886691e+02  1.207950e+03  5.766025e+02  2.127863e+03  1.472252e+03   \n",
            "std    7.200430e+04  6.824091e+04  4.891145e+04  6.055021e+04  9.762688e+04   \n",
            "min    1.000000e+00  1.000000e+00 -6.000000e+01  1.000000e+00  0.000000e+00   \n",
            "25%    2.150000e+02  5.250000e+02  1.490000e+02  1.308000e+03  2.400000e+02   \n",
            "50%    2.900000e+02  5.950000e+02  1.930000e+02  1.550000e+03  2.940000e+02   \n",
            "75%    3.920000e+02  6.940000e+02  2.620000e+02  1.809000e+03  3.360000e+02   \n",
            "max    8.388607e+06  8.388607e+06  8.388607e+06  8.388607e+06  8.388607e+06   \n",
            "\n",
            "             run400         run5k         candj        snatch      deadlift  \\\n",
            "count  2.224600e+04  3.609700e+04  1.044350e+05  9.728000e+04  1.153230e+05   \n",
            "mean   5.241279e+02  3.411464e+03  2.709107e+02  2.424957e+02  6.970503e+02   \n",
            "std    5.628804e+04  1.251980e+05  2.596882e+04  2.708942e+04  5.523235e+04   \n",
            "min    1.000000e+00  1.000000e+00 -4.500000e+01  0.000000e+00 -5.000000e+02   \n",
            "25%    6.200000e+01  1.242000e+03  1.400000e+02  1.050000e+02  2.550000e+02   \n",
            "50%    7.100000e+01  1.380000e+03  1.950000e+02  1.450000e+02  3.450000e+02   \n",
            "75%    8.400000e+01  1.560000e+03  2.350000e+02  1.850000e+02  4.150000e+02   \n",
            "max    8.388607e+06  8.388607e+06  8.388607e+06  8.388607e+06  8.388607e+06   \n",
            "\n",
            "             backsq       pullups    total_lift  \n",
            "count  1.105170e+05  5.060800e+04  8.519100e+04  \n",
            "mean   5.852109e+02  4.269613e+04  2.061057e+03  \n",
            "std    5.052976e+04  9.546078e+06  1.548460e+05  \n",
            "min   -7.000000e+00 -6.000000e+00 -2.200000e+01  \n",
            "25%    2.050000e+02  1.500000e+01  7.330000e+02  \n",
            "50%    2.750000e+02  2.700000e+01  9.850000e+02  \n",
            "75%    3.350000e+02  3.900000e+01  1.185000e+03  \n",
            "max    8.388607e+06  2.147484e+09  3.355443e+07  \n",
            "\n",
            "Shape: (423006, 28)\n",
            "\n",
            "Missing values:\n",
            "athlete_id         3\n",
            "name           91896\n",
            "region        171744\n",
            "team          267846\n",
            "affiliate     181090\n",
            "gender         91896\n",
            "age            91896\n",
            "height        263137\n",
            "weight        193116\n",
            "fran          367580\n",
            "helen         392727\n",
            "grace         382261\n",
            "filthy50      403647\n",
            "fgonebad      393268\n",
            "run400        400760\n",
            "run5k         386909\n",
            "candj         318571\n",
            "snatch        325726\n",
            "deadlift      307683\n",
            "backsq        312489\n",
            "pullups       372398\n",
            "eat           329074\n",
            "train         317175\n",
            "background    324061\n",
            "experience    318070\n",
            "schedule      325131\n",
            "howlong       313800\n",
            "total_lift    337815\n",
            "dtype: int64\n"
          ]
        },
        {
          "data": {
            "image/png": "[encoded data removed]",
            "text/plain": [
              "<Figure size 1000x600 with 4 Axes>"
            ]
          },
          "metadata": {},
          "output_type": "display_data"
        },
        {
          "data": {
            "image/png": "[encoded data removed]",
            "text/plain": [
              "<Figure size 800x600 with 2 Axes>"
            ]
          },
          "metadata": {},
          "output_type": "display_data"
        }
      ],
      "source": [
        "# Basic statistics\n",
        "print(\"=== V1 Dataset Statistics ===\")\n",
        "print(data_v1.describe())\n",
        "print(f\"\\nShape: {data_v1.shape}\")\n",
        "print(f\"\\nMissing values:\\n{data_v1.isnull().sum()}\")\n",
        "\n",
        "# Distribution of total_lift\n",
        "plt.figure(figsize=(10, 6))\n",
        "plt.subplot(2, 2, 1)\n",
        "plt.hist(data_v1['total_lift'], bins=50, edgecolor='black')\n",
        "plt.title('Total Lift Distribution')\n",
        "plt.xlabel('Total Lift')\n",
        "plt.ylabel('Frequency')\n",
        "\n",
        "# Age distribution\n",
        "plt.subplot(2, 2, 2)\n",
        "plt.hist(data_v1['age'], bins=30, edgecolor='black')\n",
        "plt.title('Age Distribution')\n",
        "plt.xlabel('Age')\n",
        "plt.ylabel('Frequency')\n",
        "\n",
        "# Weight vs Total Lift\n",
        "plt.subplot(2, 2, 3)\n",
        "plt.scatter(data_v1['weight'], data_v1['total_lift'], alpha=0.5)\n",
        "plt.title('Weight vs Total Lift')\n",
        "plt.xlabel('Weight')\n",
        "plt.ylabel('Total Lift')\n",
        "\n",
        "# Height vs Total Lift\n",
        "plt.subplot(2, 2, 4)\n",
        "plt.scatter(data_v1['height'], data_v1['total_lift'], alpha=0.5)\n",
        "plt.title('Height vs Total Lift')\n",
        "plt.xlabel('Height')\n",
        "plt.ylabel('Total Lift')\n",
        "\n",
        "plt.tight_layout()\n",
        "plt.show()\n",
        "\n",
        "# Correlation matrix\n",
        "plt.figure(figsize=(8, 6))\n",
        "corr = data_v1[['age', 'weight', 'height', 'deadlift', 'candj', 'snatch', 'backsq', 'total_lift']].corr()\n",
        "sns.heatmap(corr, annot=True, cmap='coolwarm', center=0)\n",
        "plt.title('V1 Correlation Matrix')\n",
        "plt.show()"
      ]
    },
    {
      "cell_type": "markdown",
      "metadata": {},
      "source": [
        "# LakeFS Model v1 data"
      ]
    },
    {
      "cell_type": "code",
      "execution_count": 14,
      "metadata": {},
      "outputs": [
        {
          "name": "stdout",
          "output_type": "stream",
          "text": [
            "=== V1 Model Metrics ===\n",
            "RMSE: 153923.75\n",
            "MAE: 1707.29\n",
            "R²: 0.7608\n"
          ]
        }
      ],
      "source": [
        "# Load v1 from LakeFS\n",
        "v1_obj = repo.branch(\"main\").object(\"athletes_v1.csv\")\n",
        "v1_content = v1_obj.reader(mode='r').read()\n",
        "from io import StringIO\n",
        "data_v1_lakefs = pd.read_csv(StringIO(v1_content))\n",
        "\n",
        "# Prepare data from LakeFS version\n",
        "X_v1 = data_v1_lakefs[['age', 'weight', 'height', 'deadlift', 'candj', 'snatch', 'backsq']]\n",
        "y_v1 = data_v1_lakefs['total_lift']\n",
        "X_train_v1, X_test_v1, y_train_v1, y_test_v1 = train_test_split(X_v1, y_v1, test_size=0.2, random_state=42)\n",
        "\n",
        "# Drop NaNs from X and y\n",
        "X_train_v1_clean = X_train_v1.dropna()\n",
        "y_train_v1_clean = y_train_v1.loc[X_train_v1_clean.index]\n",
        "\n",
        "X_test_v1_clean = X_test_v1.dropna()\n",
        "y_test_v1_clean = y_test_v1.loc[X_test_v1_clean.index]\n",
        "\n",
        "# Train XGBoost model\n",
        "model_v1 = xgb.XGBRegressor(\n",
        "    n_estimators=100,\n",
        "    learning_rate=0.1,\n",
        "    max_depth=5,\n",
        "    random_state=42\n",
        ")\n",
        "\n",
        "model_v1.fit(X_train_v1_clean, y_train_v1_clean)\n",
        "\n",
        "# Predictions\n",
        "y_pred_v1 = model_v1.predict(X_test_v1_clean)\n",
        "\n",
        "# Metrics\n",
        "mse_v1 = mean_squared_error(y_test_v1_clean, y_pred_v1)\n",
        "rmse_v1 = np.sqrt(mse_v1)\n",
        "mae_v1 = mean_absolute_error(y_test_v1_clean, y_pred_v1)\n",
        "r2_v1 = r2_score(y_test_v1_clean, y_pred_v1)\n",
        "\n",
        "print(\"=== V1 Model Metrics ===\")\n",
        "print(f\"RMSE: {rmse_v1:.2f}\")\n",
        "print(f\"MAE: {mae_v1:.2f}\")\n",
        "print(f\"R²: {r2_v1:.4f}\")"
      ]
    },
    {
      "cell_type": "markdown",
      "metadata": {},
      "source": [
        "# EDA V2"
      ]
    },
    {
      "cell_type": "code",
      "execution_count": 22,
      "metadata": {},
      "outputs": [
        {
          "name": "stdout",
          "output_type": "stream",
          "text": [
            "=== V2 Dataset Statistics ===\n",
            "                age        height        weight         candj        snatch  \\\n",
            "count  30029.000000  30029.000000  30029.000000  30029.000000  30029.000000   \n",
            "mean      32.123847     68.871924    177.130607    205.418396    156.174198   \n",
            "std        7.435425      3.774937     32.399828     58.687508     48.833572   \n",
            "min       18.000000     52.000000      5.000000      1.000000      1.000000   \n",
            "25%       27.000000     66.000000    155.000000    160.000000    120.000000   \n",
            "50%       31.000000     69.000000    178.000000    205.000000    155.000000   \n",
            "75%       37.000000     72.000000    197.000000    245.000000    190.000000   \n",
            "max       56.000000     83.000000    474.000000    390.000000    386.000000   \n",
            "\n",
            "           deadlift        backsq    total_lift  \n",
            "count  30029.000000  30029.000000  30029.000000  \n",
            "mean     361.933997    294.118818   1017.645409  \n",
            "std       96.745441     85.081340    277.682895  \n",
            "min        0.000000      1.000000      4.000000  \n",
            "25%      287.000000    225.000000    805.000000  \n",
            "50%      375.000000    300.000000   1040.000000  \n",
            "75%      434.000000    355.000000   1224.000000  \n",
            "max     1000.000000    882.000000   2135.000000  \n",
            "\n",
            "Shape: (30029, 15)\n",
            "\n",
            "Missing values:\n",
            "region        0\n",
            "gender        0\n",
            "age           0\n",
            "height        0\n",
            "weight        0\n",
            "candj         0\n",
            "snatch        0\n",
            "deadlift      0\n",
            "backsq        0\n",
            "eat           0\n",
            "background    0\n",
            "experience    0\n",
            "schedule      0\n",
            "howlong       0\n",
            "total_lift    0\n",
            "dtype: int64\n"
          ]
        },
        {
          "data": {
            "image/png": "[encoded data removed]",
            "text/plain": [
              "<Figure size 1000x600 with 4 Axes>"
            ]
          },
          "metadata": {},
          "output_type": "display_data"
        },
        {
          "data": {
            "image/png": "[encoded data removed]",
            "text/plain": [
              "<Figure size 800x600 with 2 Axes>"
            ]
          },
          "metadata": {},
          "output_type": "display_data"
        }
      ],
      "source": [
        "import matplotlib.pyplot as plt\n",
        "import seaborn as sns\n",
        "\n",
        "# Basic statistics\n",
        "print(\"=== V2 Dataset Statistics ===\")\n",
        "print(data_v2.describe())\n",
        "print(f\"\\nShape: {data_v2.shape}\")\n",
        "print(f\"\\nMissing values:\\n{data_v2.isnull().sum()}\")\n",
        "\n",
        "# Distribution of total_lift\n",
        "plt.figure(figsize=(10, 6))\n",
        "plt.subplot(2, 2, 1)\n",
        "plt.hist(data_v2['total_lift'], bins=50, edgecolor='black')\n",
        "plt.title('Total Lift Distribution')\n",
        "plt.xlabel('Total Lift')\n",
        "plt.ylabel('Frequency')\n",
        "\n",
        "# Age distribution\n",
        "plt.subplot(2, 2, 2)\n",
        "plt.hist(data_v2['age'], bins=30, edgecolor='black')\n",
        "plt.title('Age Distribution')\n",
        "plt.xlabel('Age')\n",
        "plt.ylabel('Frequency')\n",
        "\n",
        "# Weight vs Total Lift\n",
        "plt.subplot(2, 2, 3)\n",
        "plt.scatter(data_v2['weight'], data_v2['total_lift'], alpha=0.5)\n",
        "plt.title('Weight vs Total Lift')\n",
        "plt.xlabel('Weight')\n",
        "plt.ylabel('Total Lift')\n",
        "\n",
        "# Height vs Total Lift\n",
        "plt.subplot(2, 2, 4)\n",
        "plt.scatter(data_v2['height'], data_v2['total_lift'], alpha=0.5)\n",
        "plt.title('Height vs Total Lift')\n",
        "plt.xlabel('Height')\n",
        "plt.ylabel('Total Lift')\n",
        "\n",
        "plt.tight_layout()\n",
        "plt.show()\n",
        "\n",
        "# Correlation matrix\n",
        "plt.figure(figsize=(8, 6))\n",
        "corr = data_v2[['age', 'weight', 'height', 'deadlift', 'candj', 'snatch', 'backsq', 'total_lift']].corr()\n",
        "sns.heatmap(corr, annot=True, cmap='coolwarm', center=0)\n",
        "plt.title('V2 Correlation Matrix')\n",
        "plt.show()"
      ]
    },
    {
      "cell_type": "markdown",
      "metadata": {},
      "source": [
        "# Lakefs Model v2 data"
      ]
    },
    {
      "cell_type": "code",
      "execution_count": 15,
      "metadata": {},
      "outputs": [],
      "source": [
        "# Load v2 from LakeFS - demonstrating version switching\n",
        "v2_obj = repo.branch(\"v2\").object(\"athletes_v2.csv\")\n",
        "v2_content = v2_obj.reader(mode='r').read()\n",
        "from io import StringIO\n",
        "data_v2_lakefs = pd.read_csv(StringIO(v2_content))\n",
        "\n",
        "# Prepare data from LakeFS v2\n",
        "X_v2 = data_v2_lakefs[['age', 'weight', 'height', 'deadlift', 'candj', 'snatch', 'backsq']]\n",
        "y_v2 = data_v2_lakefs['total_lift']\n",
        "X_train_v2, X_test_v2, y_train_v2, y_test_v2 = train_test_split(X_v2, y_v2, test_size=0.2, random_state=42)\n",
        "\n",
        "# Use v2 data with SAME training code\n",
        "X_train_v2_clean = X_train_v2.dropna()\n",
        "y_train_v2_clean = y_train_v2.loc[X_train_v2_clean.index]\n",
        "\n",
        "X_test_v2_clean = X_test_v2.dropna()\n",
        "y_test_v2_clean = y_test_v2.loc[X_test_v2_clean.index]\n"
      ]
    },
    {
      "cell_type": "code",
      "execution_count": 16,
      "metadata": {},
      "outputs": [],
      "source": [
        "# Train model (SAME CODE as v1)\n",
        "model_v2 = xgb.XGBRegressor(\n",
        "    n_estimators=100,\n",
        "    learning_rate=0.1,\n",
        "    max_depth=5,\n",
        "    random_state=42\n",
        ")\n",
        "\n",
        "model_v2.fit(X_train_v2_clean, y_train_v2_clean)\n",
        "\n",
        "# Predictions\n",
        "y_pred_v2 = model_v2.predict(X_test_v2_clean)\n"
      ]
    },
    {
      "cell_type": "markdown",
      "metadata": {},
      "source": [
        "### 11. Run metrics for this data v2 model.\n"
      ]
    },
    {
      "cell_type": "code",
      "execution_count": 24,
      "metadata": {},
      "outputs": [
        {
          "name": "stdout",
          "output_type": "stream",
          "text": [
            "=== V2 Model Metrics ===\n",
            "RMSE: 9.71\n",
            "MAE: 5.58\n",
            "R²: 0.9988\n"
          ]
        }
      ],
      "source": [
        "\n",
        "# Metrics\n",
        "mse_v2 = mean_squared_error(y_test_v2_clean, y_pred_v2)\n",
        "rmse_v2 = np.sqrt(mse_v2)\n",
        "mae_v2 = mean_absolute_error(y_test_v2_clean, y_pred_v2)\n",
        "r2_v2 = r2_score(y_test_v2_clean, y_pred_v2)\n",
        "\n",
        "print(\"=== V2 Model Metrics ===\")\n",
        "print(f\"RMSE: {rmse_v2:.2f}\")\n",
        "print(f\"MAE: {mae_v2:.2f}\")\n",
        "print(f\"R²: {r2_v2:.4f}\")"
      ]
    },
    {
      "cell_type": "markdown",
      "metadata": {},
      "source": [
        "# 12. Compare and comment on the accuracy/metrics of the models using v1 and v2.\n",
        "\n",
        "=== V1 Model Metrics ===\n",
        "RMSE: 153923.75\n",
        "MAE: 1707.29\n",
        "R²: 0.7608\n",
        "\n",
        "=== V2 Model Metrics ===\n",
        "RMSE: 9.71\n",
        "MAE: 5.58\n",
        "R²: 0.9988\n",
        "\n",
        "\n",
        "The same xgboost model is much more accurate with v2 data which is cleaned and has anomalies removed, validating the importance of robust data versioning and preprocessing pipelines in production ML system. \n",
        "\n",
        "The extreme RMSE in v1 (153k) suggests the presence of data entry errors or extreme outliers that were successfully removed in v2's cleaning process\n",
        "\n",
        "In terms of performance we see RMSE and MAE are much lower indicating close fitting and that we utilized all maximum predictive power given the data. \n",
        "\n",
        "Removing invalid entries (e.g., gender='--', unrealistic lift values) and handling missing data improved feature signal-to-noise ratio\n",
        "\n",
        "The low MAE (5.58 lbs) in v2 means predictions are highly accurate, with minimal average error."
      ]
    },
    {
      "cell_type": "markdown",
      "metadata": {},
      "source": [
        "# Lakefs DP w v2\n",
        "\n",
        "Use tensor flow privacy library with the dataset v2 and calculate the metrics for the new DP model.\n"
      ]
    },
    {
      "cell_type": "code",
      "execution_count": null,
      "metadata": {},
      "outputs": [],
      "source": [
        "#!pip install tensorflow==2.15.0 tensorflow-privacy==0.9.0"
      ]
    },
    {
      "cell_type": "code",
      "execution_count": null,
      "metadata": {},
      "outputs": [
        {
          "name": "stdout",
          "output_type": "stream",
          "text": [
            "Epoch 1/100\n",
            "94/94 [==============================] - 1s 3ms/step - loss: 1102164.2500 - mae: 1012.5169 - val_loss: 1074405.2500 - val_mae: 999.7993\n",
            "Epoch 2/100\n",
            "94/94 [==============================] - 0s 2ms/step - loss: 1022927.6875 - mae: 975.5627 - val_loss: 960821.3125 - val_mae: 946.7983\n",
            "Epoch 3/100\n",
            "94/94 [==============================] - 0s 2ms/step - loss: 881881.3750 - mae: 897.7495 - val_loss: 781762.5000 - val_mae: 840.3143\n",
            "Epoch 4/100\n",
            "94/94 [==============================] - 0s 2ms/step - loss: 707173.3125 - mae: 804.5942 - val_loss: 591583.8125 - val_mae: 732.6992\n",
            "Epoch 5/100\n",
            "94/94 [==============================] - 0s 2ms/step - loss: 491357.5000 - mae: 668.9941 - val_loss: 416788.7188 - val_mae: 621.1306\n",
            "Epoch 6/100\n",
            "94/94 [==============================] - 0s 1ms/step - loss: 264843.9375 - mae: 470.7457 - val_loss: 92674.8281 - val_mae: 259.7242\n",
            "Epoch 7/100\n",
            "94/94 [==============================] - 0s 2ms/step - loss: 83335.8750 - mae: 238.4938 - val_loss: 72662.2344 - val_mae: 219.0696\n",
            "Epoch 8/100\n",
            "94/94 [==============================] - 0s 1ms/step - loss: 51491.1914 - mae: 181.6700 - val_loss: 44934.8945 - val_mae: 173.8828\n",
            "Epoch 9/100\n",
            "94/94 [==============================] - 0s 1ms/step - loss: 43614.2422 - mae: 171.0047 - val_loss: 42567.7500 - val_mae: 167.4031\n",
            "Epoch 10/100\n",
            "94/94 [==============================] - 0s 2ms/step - loss: 51987.7070 - mae: 187.3621 - val_loss: 60902.4609 - val_mae: 203.6367\n",
            "Epoch 11/100\n",
            "94/94 [==============================] - 0s 2ms/step - loss: 53814.1719 - mae: 183.7836 - val_loss: 57201.8984 - val_mae: 195.2778\n",
            "Epoch 12/100\n",
            "94/94 [==============================] - 0s 2ms/step - loss: 65703.2188 - mae: 200.0701 - val_loss: 62674.0781 - val_mae: 199.2323\n",
            "Epoch 13/100\n",
            "94/94 [==============================] - 0s 2ms/step - loss: 89689.4297 - mae: 246.2430 - val_loss: 61372.5039 - val_mae: 204.6071\n",
            "Epoch 14/100\n",
            "94/94 [==============================] - 0s 1ms/step - loss: 80640.8047 - mae: 230.3385 - val_loss: 64429.9844 - val_mae: 199.1804\n",
            "Epoch 15/100\n",
            "94/94 [==============================] - 0s 1ms/step - loss: 83713.9922 - mae: 223.6830 - val_loss: 93188.4844 - val_mae: 233.1195\n",
            "Epoch 16/100\n",
            "94/94 [==============================] - 0s 1ms/step - loss: 109087.0859 - mae: 254.2640 - val_loss: 121574.0391 - val_mae: 285.7076\n",
            "Epoch 17/100\n",
            "94/94 [==============================] - 0s 1ms/step - loss: 107027.7031 - mae: 253.5245 - val_loss: 164424.7188 - val_mae: 306.9502\n",
            "Epoch 18/100\n",
            "94/94 [==============================] - 0s 1ms/step - loss: 218118.3906 - mae: 358.2036 - val_loss: 248003.6875 - val_mae: 374.2675\n",
            "Epoch 19/100\n",
            "94/94 [==============================] - 0s 1ms/step - loss: 264466.1562 - mae: 381.3365 - val_loss: 172901.2500 - val_mae: 301.7219\n",
            "Epoch 20/100\n",
            "94/94 [==============================] - 0s 2ms/step - loss: 222368.2500 - mae: 364.6134 - val_loss: 256148.5938 - val_mae: 405.7979\n",
            "Epoch 21/100\n",
            "94/94 [==============================] - 0s 1ms/step - loss: 266758.8125 - mae: 397.1315 - val_loss: 310514.9688 - val_mae: 427.4367\n",
            "Epoch 22/100\n",
            "94/94 [==============================] - 0s 1ms/step - loss: 409099.5625 - mae: 506.9991 - val_loss: 486253.3125 - val_mae: 569.4556\n",
            "Epoch 23/100\n",
            "94/94 [==============================] - 0s 2ms/step - loss: 338850.4375 - mae: 452.3382 - val_loss: 346827.7500 - val_mae: 452.6079\n",
            "Epoch 24/100\n",
            "94/94 [==============================] - 0s 2ms/step - loss: 341667.9688 - mae: 445.4474 - val_loss: 380225.0938 - val_mae: 494.0906\n",
            "Epoch 25/100\n",
            "94/94 [==============================] - 0s 1ms/step - loss: 294347.4375 - mae: 419.3559 - val_loss: 326536.4688 - val_mae: 434.9877\n",
            "Epoch 26/100\n",
            "94/94 [==============================] - 0s 2ms/step - loss: 400161.4375 - mae: 483.8002 - val_loss: 549873.8125 - val_mae: 554.4536\n",
            "Epoch 27/100\n",
            "94/94 [==============================] - 0s 1ms/step - loss: 409724.8750 - mae: 499.2725 - val_loss: 427604.0312 - val_mae: 506.9317\n",
            "Epoch 28/100\n",
            "94/94 [==============================] - 0s 2ms/step - loss: 455038.5938 - mae: 524.3173 - val_loss: 560515.8125 - val_mae: 568.0985\n",
            "Epoch 29/100\n",
            "94/94 [==============================] - 0s 1ms/step - loss: 435784.5312 - mae: 505.0676 - val_loss: 353189.2188 - val_mae: 454.4093\n",
            "Epoch 30/100\n",
            "94/94 [==============================] - 0s 1ms/step - loss: 403823.0938 - mae: 486.9083 - val_loss: 443795.8125 - val_mae: 515.2366\n",
            "Epoch 31/100\n",
            "94/94 [==============================] - 0s 1ms/step - loss: 544086.1250 - mae: 546.2976 - val_loss: 458071.1875 - val_mae: 493.2746\n",
            "Epoch 32/100\n",
            "94/94 [==============================] - 0s 1ms/step - loss: 547396.0625 - mae: 560.0026 - val_loss: 520782.4688 - val_mae: 555.5019\n",
            "Epoch 33/100\n",
            "94/94 [==============================] - 0s 1ms/step - loss: 942850.6875 - mae: 725.4438 - val_loss: 1192783.7500 - val_mae: 822.3753\n",
            "Epoch 34/100\n",
            "94/94 [==============================] - 0s 1ms/step - loss: 894933.1250 - mae: 727.2653 - val_loss: 1400090.3750 - val_mae: 932.8666\n",
            "Epoch 35/100\n",
            "94/94 [==============================] - 0s 1ms/step - loss: 693022.9375 - mae: 636.1119 - val_loss: 699426.6875 - val_mae: 650.7827\n",
            "Epoch 36/100\n",
            "94/94 [==============================] - 0s 2ms/step - loss: 707793.9375 - mae: 645.4687 - val_loss: 688569.9375 - val_mae: 631.5522\n",
            "Epoch 37/100\n",
            "94/94 [==============================] - 0s 1ms/step - loss: 578055.3750 - mae: 577.4319 - val_loss: 614038.5625 - val_mae: 600.5449\n",
            "Epoch 38/100\n",
            "94/94 [==============================] - 0s 1ms/step - loss: 619788.4375 - mae: 592.6317 - val_loss: 544634.3125 - val_mae: 538.8124\n",
            "Epoch 39/100\n",
            "94/94 [==============================] - 0s 1ms/step - loss: 665631.5000 - mae: 609.6966 - val_loss: 729608.1875 - val_mae: 669.4576\n",
            "Epoch 40/100\n",
            "94/94 [==============================] - 0s 1ms/step - loss: 741985.0000 - mae: 659.2524 - val_loss: 509498.1562 - val_mae: 539.9278\n",
            "Epoch 41/100\n",
            "94/94 [==============================] - 0s 1ms/step - loss: 609350.3750 - mae: 584.3624 - val_loss: 624445.4375 - val_mae: 590.9759\n",
            "Epoch 42/100\n",
            "94/94 [==============================] - 0s 1ms/step - loss: 848151.5000 - mae: 704.8611 - val_loss: 1052952.8750 - val_mae: 776.8378\n",
            "Epoch 43/100\n",
            "94/94 [==============================] - 0s 1ms/step - loss: 1076892.7500 - mae: 804.1382 - val_loss: 717587.3750 - val_mae: 668.8253\n",
            "Epoch 44/100\n",
            "94/94 [==============================] - 0s 1ms/step - loss: 925251.4375 - mae: 752.9112 - val_loss: 1017706.3125 - val_mae: 800.1455\n",
            "Epoch 45/100\n",
            "94/94 [==============================] - 0s 1ms/step - loss: 1016578.5625 - mae: 790.6019 - val_loss: 889020.7500 - val_mae: 738.2695\n",
            "Epoch 46/100\n",
            "94/94 [==============================] - 0s 2ms/step - loss: 753426.8125 - mae: 667.0262 - val_loss: 715207.7500 - val_mae: 651.6932\n",
            "Epoch 47/100\n",
            "94/94 [==============================] - 0s 1ms/step - loss: 745883.5000 - mae: 666.0663 - val_loss: 656950.5000 - val_mae: 603.4695\n",
            "Epoch 48/100\n",
            "94/94 [==============================] - 0s 1ms/step - loss: 721056.8750 - mae: 641.7230 - val_loss: 906242.4375 - val_mae: 727.3420\n",
            "Epoch 49/100\n",
            "94/94 [==============================] - 0s 1ms/step - loss: 1144905.2500 - mae: 808.5996 - val_loss: 907529.6250 - val_mae: 721.9764\n",
            "Epoch 50/100\n",
            "94/94 [==============================] - 0s 1ms/step - loss: 979642.3750 - mae: 750.9811 - val_loss: 1704530.6250 - val_mae: 1038.2401\n",
            "Epoch 51/100\n",
            "94/94 [==============================] - 0s 1ms/step - loss: 1057132.7500 - mae: 778.6365 - val_loss: 1246765.8750 - val_mae: 853.1477\n",
            "Epoch 52/100\n",
            "94/94 [==============================] - 0s 1ms/step - loss: 1074675.1250 - mae: 791.9719 - val_loss: 1235013.7500 - val_mae: 866.9719\n",
            "Epoch 53/100\n",
            "94/94 [==============================] - 0s 1ms/step - loss: 1113461.8750 - mae: 797.0374 - val_loss: 911910.4375 - val_mae: 722.9756\n",
            "Epoch 54/100\n",
            "94/94 [==============================] - 0s 1ms/step - loss: 1142792.8750 - mae: 803.6422 - val_loss: 1101273.5000 - val_mae: 786.5903\n",
            "Epoch 55/100\n",
            "94/94 [==============================] - 0s 1ms/step - loss: 1482695.8750 - mae: 911.8051 - val_loss: 1350987.8750 - val_mae: 873.3836\n",
            "Epoch 56/100\n",
            "94/94 [==============================] - 0s 1ms/step - loss: 1455069.8750 - mae: 905.5232 - val_loss: 1487082.5000 - val_mae: 927.4719\n",
            "Epoch 57/100\n",
            "94/94 [==============================] - 0s 1ms/step - loss: 1710943.2500 - mae: 1020.0872 - val_loss: 1795532.5000 - val_mae: 1057.0886\n",
            "Epoch 58/100\n",
            "94/94 [==============================] - 0s 1ms/step - loss: 2093164.1250 - mae: 1146.5253 - val_loss: 2208699.2500 - val_mae: 1172.9811\n",
            "Epoch 59/100\n",
            "94/94 [==============================] - 0s 1ms/step - loss: 2094972.2500 - mae: 1138.4264 - val_loss: 2085799.8750 - val_mae: 1118.6157\n",
            "Epoch 60/100\n",
            "94/94 [==============================] - 0s 1ms/step - loss: 2247670.7500 - mae: 1140.8378 - val_loss: 1871902.3750 - val_mae: 1045.8043\n",
            "Epoch 61/100\n",
            "94/94 [==============================] - 0s 1ms/step - loss: 2616853.5000 - mae: 1240.1898 - val_loss: 2831158.2500 - val_mae: 1268.9623\n",
            "Epoch 62/100\n",
            "94/94 [==============================] - 0s 1ms/step - loss: 2981440.0000 - mae: 1275.1364 - val_loss: 2351581.7500 - val_mae: 1125.0432\n",
            "Epoch 63/100\n",
            "94/94 [==============================] - 0s 1ms/step - loss: 2387213.0000 - mae: 1147.0466 - val_loss: 2431913.5000 - val_mae: 1152.5454\n",
            "Epoch 64/100\n",
            "94/94 [==============================] - 0s 1ms/step - loss: 2640929.5000 - mae: 1188.5065 - val_loss: 2068167.3750 - val_mae: 1063.9808\n",
            "Epoch 65/100\n",
            "94/94 [==============================] - 0s 1ms/step - loss: 2561000.5000 - mae: 1199.0557 - val_loss: 1794485.7500 - val_mae: 988.9710\n",
            "Epoch 66/100\n",
            "94/94 [==============================] - 0s 2ms/step - loss: 1874864.8750 - mae: 1003.8286 - val_loss: 2168143.2500 - val_mae: 1092.4457\n",
            "Epoch 67/100\n",
            "94/94 [==============================] - 0s 2ms/step - loss: 2125727.2500 - mae: 1085.5022 - val_loss: 1929334.2500 - val_mae: 1046.2423\n",
            "Epoch 68/100\n",
            "94/94 [==============================] - 0s 1ms/step - loss: 4158475.0000 - mae: 1553.1731 - val_loss: 3121746.7500 - val_mae: 1307.5476\n",
            "Epoch 69/100\n",
            "94/94 [==============================] - 0s 1ms/step - loss: 2749662.5000 - mae: 1254.7195 - val_loss: 3206077.2500 - val_mae: 1358.6755\n",
            "Epoch 70/100\n",
            "94/94 [==============================] - 0s 2ms/step - loss: 3055712.5000 - mae: 1327.4752 - val_loss: 2702733.5000 - val_mae: 1245.1014\n",
            "Epoch 71/100\n",
            "94/94 [==============================] - 0s 1ms/step - loss: 2651086.0000 - mae: 1243.6449 - val_loss: 2325882.0000 - val_mae: 1138.9331\n",
            "Epoch 72/100\n",
            "94/94 [==============================] - 0s 1ms/step - loss: 3046232.5000 - mae: 1350.2937 - val_loss: 3246127.7500 - val_mae: 1429.1028\n",
            "Epoch 73/100\n",
            "94/94 [==============================] - 0s 1ms/step - loss: 2976811.2500 - mae: 1302.7134 - val_loss: 2893998.5000 - val_mae: 1284.7245\n",
            "Epoch 74/100\n",
            "94/94 [==============================] - 0s 2ms/step - loss: 2790441.2500 - mae: 1272.3052 - val_loss: 2494665.5000 - val_mae: 1158.1802\n",
            "Epoch 75/100\n",
            "94/94 [==============================] - 0s 1ms/step - loss: 3367390.2500 - mae: 1373.6287 - val_loss: 3581188.5000 - val_mae: 1432.5273\n",
            "Epoch 76/100\n",
            "94/94 [==============================] - 0s 1ms/step - loss: 3716702.0000 - mae: 1499.2303 - val_loss: 2805441.5000 - val_mae: 1246.2830\n",
            "Epoch 77/100\n",
            "94/94 [==============================] - 0s 1ms/step - loss: 2725134.7500 - mae: 1235.2880 - val_loss: 2842950.5000 - val_mae: 1283.1948\n",
            "Epoch 78/100\n",
            "94/94 [==============================] - 0s 1ms/step - loss: 2600813.0000 - mae: 1233.6392 - val_loss: 2820354.7500 - val_mae: 1289.2323\n",
            "Epoch 79/100\n",
            "94/94 [==============================] - 0s 1ms/step - loss: 3024318.5000 - mae: 1308.5977 - val_loss: 3918386.2500 - val_mae: 1552.0586\n",
            "Epoch 80/100\n",
            "94/94 [==============================] - 0s 1ms/step - loss: 3486655.2500 - mae: 1422.6040 - val_loss: 3601107.5000 - val_mae: 1447.0847\n",
            "Epoch 81/100\n",
            "94/94 [==============================] - 0s 1ms/step - loss: 3726002.0000 - mae: 1458.2368 - val_loss: 3784416.2500 - val_mae: 1478.3623\n",
            "Epoch 82/100\n",
            "94/94 [==============================] - 0s 2ms/step - loss: 3962791.5000 - mae: 1512.4344 - val_loss: 3402095.5000 - val_mae: 1381.9617\n",
            "Epoch 83/100\n",
            "94/94 [==============================] - 0s 2ms/step - loss: 4357637.0000 - mae: 1590.3575 - val_loss: 4496313.5000 - val_mae: 1657.7974\n",
            "Epoch 84/100\n",
            "94/94 [==============================] - 0s 2ms/step - loss: 5558413.0000 - mae: 1844.5300 - val_loss: 3889107.5000 - val_mae: 1467.1697\n",
            "Epoch 85/100\n",
            "94/94 [==============================] - 0s 2ms/step - loss: 3848950.0000 - mae: 1419.4076 - val_loss: 4282171.0000 - val_mae: 1489.5253\n",
            "Epoch 86/100\n",
            "94/94 [==============================] - 0s 2ms/step - loss: 4282620.5000 - mae: 1512.9364 - val_loss: 3954584.2500 - val_mae: 1427.1298\n",
            "Epoch 87/100\n",
            "94/94 [==============================] - 0s 1ms/step - loss: 3459277.7500 - mae: 1356.8531 - val_loss: 4016044.0000 - val_mae: 1444.4003\n",
            "Epoch 88/100\n",
            "94/94 [==============================] - 0s 1ms/step - loss: 4342188.0000 - mae: 1523.3160 - val_loss: 6532694.5000 - val_mae: 1878.1781\n",
            "Epoch 89/100\n",
            "94/94 [==============================] - 0s 1ms/step - loss: 5247297.5000 - mae: 1708.9702 - val_loss: 4611622.5000 - val_mae: 1575.0006\n",
            "Epoch 90/100\n",
            "94/94 [==============================] - 0s 1ms/step - loss: 5142689.5000 - mae: 1694.9021 - val_loss: 4913974.0000 - val_mae: 1621.5386\n",
            "Epoch 91/100\n",
            "94/94 [==============================] - 0s 1ms/step - loss: 6233103.5000 - mae: 1931.7083 - val_loss: 5786972.5000 - val_mae: 1822.9259\n",
            "Epoch 92/100\n",
            "94/94 [==============================] - 0s 1ms/step - loss: 4748356.0000 - mae: 1668.1547 - val_loss: 3811366.0000 - val_mae: 1467.0795\n",
            "Epoch 93/100\n",
            "94/94 [==============================] - 0s 1ms/step - loss: 4136200.5000 - mae: 1545.3906 - val_loss: 3188860.7500 - val_mae: 1356.2648\n",
            "Epoch 94/100\n",
            "94/94 [==============================] - 0s 1ms/step - loss: 3997264.5000 - mae: 1514.9489 - val_loss: 4070317.5000 - val_mae: 1578.2366\n",
            "Epoch 95/100\n",
            "94/94 [==============================] - 0s 1ms/step - loss: 4329211.0000 - mae: 1628.4038 - val_loss: 3801069.5000 - val_mae: 1453.4304\n",
            "Epoch 96/100\n",
            "94/94 [==============================] - 0s 1ms/step - loss: 4389557.0000 - mae: 1522.2795 - val_loss: 3903483.2500 - val_mae: 1427.6371\n",
            "Epoch 97/100\n",
            "94/94 [==============================] - 0s 1ms/step - loss: 5739274.5000 - mae: 1733.0464 - val_loss: 5450632.5000 - val_mae: 1720.5654\n",
            "Epoch 98/100\n",
            "94/94 [==============================] - 0s 2ms/step - loss: 6765551.0000 - mae: 1872.0701 - val_loss: 4461172.0000 - val_mae: 1552.7529\n",
            "Epoch 99/100\n",
            "94/94 [==============================] - 0s 1ms/step - loss: 5535533.5000 - mae: 1677.4304 - val_loss: 5889463.0000 - val_mae: 1676.7333\n",
            "Epoch 100/100\n",
            "94/94 [==============================] - 0s 1ms/step - loss: 5697584.0000 - mae: 1756.6862 - val_loss: 7376781.0000 - val_mae: 2155.3623\n",
            "\n",
            "DP-SGD performed over 24023 examples with 256 examples per iteration, noise\n",
            "multiplier 3.0 for 100 epochs with microbatching, and at most 1 examples per\n",
            "user.\n",
            "\n",
            "This privacy guarantee protects the release of all model checkpoints in addition\n",
            "to the final model.\n",
            "\n",
            "Example-level DP with add-or-remove-one adjacency at delta = 1e-05 computed with\n",
            "RDP accounting:\n",
            "    Epsilon with each example occurring once per epoch:        52.579\n",
            "    Epsilon assuming Poisson sampling (*):                      3.588\n",
            "\n",
            "User-level DP with add-or-remove-one adjacency at delta = 1e-05 computed using\n",
            "RDP accounting and group privacy:\n",
            "    Epsilon with each example occurring once per epoch:        52.579\n",
            "    Epsilon assuming Poisson sampling (*):                      3.588\n",
            "\n",
            "(*) Poisson sampling is not usually done in training pipelines, but assuming\n",
            "that the data was randomly shuffled, it is believed that the actual epsilon\n",
            "should be closer to this value than the conservative assumption of an arbitrary\n",
            "data order.\n",
            "\n",
            "WARNING:tensorflow:AutoGraph could not transform <function Model.make_predict_function.<locals>.predict_function at 0x000001B5357CB880> and will run it as-is.\n",
            "Please report this to the TensorFlow team. When filing the bug, set the verbosity to 10 (on Linux, `export AUTOGRAPH_VERBOSITY=10`) and attach the full output.\n",
            "Cause: closure mismatch, requested ('self', 'step_function'), but source function had ()\n",
            "To silence this warning, decorate the function with @tf.autograph.experimental.do_not_convert\n",
            "WARNING: AutoGraph could not transform <function Model.make_predict_function.<locals>.predict_function at 0x000001B5357CB880> and will run it as-is.\n",
            "Please report this to the TensorFlow team. When filing the bug, set the verbosity to 10 (on Linux, `export AUTOGRAPH_VERBOSITY=10`) and attach the full output.\n",
            "Cause: closure mismatch, requested ('self', 'step_function'), but source function had ()\n",
            "To silence this warning, decorate the function with @tf.autograph.experimental.do_not_convert\n",
            "188/188 [==============================] - 0s 601us/step\n",
            "\n",
            "=== DP Model Metrics ===\n",
            "RMSE: 2715.96\n",
            "MAE: 2155.36\n",
            "R²: -95.0362\n"
          ]
        }
      ],
      "source": [
        "\n",
        "\n",
        "# Scale features only\n",
        "scaler = StandardScaler()\n",
        "X_train_v2_scaled = scaler.fit_transform(X_train_v2_clean)\n",
        "X_test_v2_scaled = scaler.transform(X_test_v2_clean)\n",
        "\n",
        "# Build DP model\n",
        "dp_model = keras.Sequential([\n",
        "    keras.layers.Dense(128, activation='relu', input_shape=(X_train_v2_scaled.shape[1],)),\n",
        "    keras.layers.Dense(64, activation='relu'),\n",
        "    keras.layers.Dense(32, activation='relu'),\n",
        "    keras.layers.Dense(1)\n",
        "])\n",
        "\n",
        "# DP parameters\n",
        "l2_norm_clip = 1.0\n",
        "noise_multiplier = 3.0\n",
        "batch_size = 256\n",
        "epochs = 100\n",
        "num_microbatches = 1\n",
        "learning_rate = 0.25\n",
        "\n",
        "\n",
        "optimizer = DPKerasSGDOptimizer(\n",
        "    l2_norm_clip=l2_norm_clip,\n",
        "    noise_multiplier=noise_multiplier,\n",
        "    num_microbatches=num_microbatches,\n",
        "    learning_rate=0.01\n",
        ")\n",
        "\n",
        "loss = tf.keras.losses.MeanSquaredError(reduction=tf.losses.Reduction.NONE)\n",
        "dp_model.compile(optimizer=optimizer, loss=loss, metrics=['mae'])\n",
        "\n",
        "# Train DP model\n",
        "history = dp_model.fit(\n",
        "    X_train_v2_scaled, y_train_v2_clean,\n",
        "    epochs=epochs,\n",
        "    validation_data=(X_test_v2_scaled, y_test_v2_clean),\n",
        "    batch_size=batch_size,\n",
        "    verbose=1\n",
        ")\n",
        "\n",
        "# Compute DP guarantees\n",
        "privacy_statement = compute_dp_sgd_privacy_statement(\n",
        "    number_of_examples=len(X_train_v2_clean),\n",
        "    batch_size=batch_size,\n",
        "    num_epochs=epochs,\n",
        "    noise_multiplier=noise_multiplier,\n",
        "    delta=1e-5,\n",
        "    used_microbatching=True,\n",
        "    max_examples_per_user=1\n",
        ")\n",
        "\n",
        "print(\"\\n\" + privacy_statement)\n",
        "\n",
        "# Predictions\n",
        "y_pred_dp = dp_model.predict(X_test_v2_scaled).flatten()\n",
        "\n",
        "mse_dp = mean_squared_error(y_test_v2_clean, y_pred_dp)\n",
        "rmse_dp = np.sqrt(mse_dp)\n",
        "mae_dp = mean_absolute_error(y_test_v2_clean, y_pred_dp)\n",
        "r2_dp = r2_score(y_test_v2_clean, y_pred_dp)\n",
        "\n",
        "print(\"\\n=== DP Model Metrics ===\")\n",
        "print(f\"RMSE: {rmse_dp:.2f}\")\n",
        "print(f\"MAE: {mae_dp:.2f}\")\n",
        "print(f\"R²: {r2_dp:.4f}\")"
      ]
    },
    {
      "cell_type": "markdown",
      "metadata": {},
      "source": [
        "Example-level DP with add-or-remove-one adjacency at delta = 1e-05 computed with\n",
        "RDP accounting:\n",
        "    Epsilon with each example occurring once per epoch:        52.579\n",
        "    Epsilon assuming Poisson sampling (*):                      3.588\n",
        "\n",
        "User-level DP with add-or-remove-one adjacency at delta = 1e-05 computed using\n",
        "RDP accounting and group privacy:\n",
        "    Epsilon with each example occurring once per epoch:        52.579\n",
        "    Epsilon assuming Poisson sampling (*):                      3.588\n",
        "\n",
        "(*) Poisson sampling is not usually done in training pipelines, but assuming\n",
        "that the data was randomly shuffled, it is believed that the actual epsilon\n",
        "should be closer to this value than the conservative assumption of an arbitrary\n",
        "data order.\n",
        "\n",
        "=== DP Model Metrics ===\n",
        "RMSE: 2715.96\n",
        "MAE: 2155.36\n",
        "R²: -95.0362"
      ]
    },
    {
      "cell_type": "markdown",
      "metadata": {},
      "source": [
        "# Tool 2 - W and Biases (W &B) "
      ]
    },
    {
      "cell_type": "markdown",
      "metadata": {},
      "source": [
        "## intialize and save v1"
      ]
    },
    {
      "cell_type": "code",
      "execution_count": null,
      "metadata": {},
      "outputs": [
        {
          "name": "stderr",
          "output_type": "stream",
          "text": [
            "wandb: ERROR Failed to detect the name of this notebook. You can set it manually with the WANDB_NOTEBOOK_NAME environment variable to enable code saving.\n",
            "wandb: Currently logged in as: riverase (riverase-safenet) to https://api.wandb.ai. Use `wandb login --relogin` to force relogin\n"
          ]
        },
        {
          "data": {
            "text/html": [],
            "text/plain": [
              "<IPython.core.display.HTML object>"
            ]
          },
          "metadata": {},
          "output_type": "display_data"
        },
        {
          "data": {
            "text/html": [
              "Tracking run with wandb version 0.22.2"
            ],
            "text/plain": [
              "<IPython.core.display.HTML object>"
            ]
          },
          "metadata": {},
          "output_type": "display_data"
        },
        {
          "data": {
            "text/html": [
              "Run data is saved locally in <code>c:\\Users\\Sebastian\\OneDrive\\Documents\\Data Science\\Masters Science - DS\\5th Quarter\\MLOPS\\Assignments\\Assign_1\\wandb\\run-20251012_152706-4pg6jy27</code>"
            ],
            "text/plain": [
              "<IPython.core.display.HTML object>"
            ]
          },
          "metadata": {},
          "output_type": "display_data"
        },
        {
          "data": {
            "text/html": [
              "Syncing run <strong><a href='https://wandb.ai/riverase-safenet/athletes-mlops/runs/4pg6jy27' target=\"_blank\">wandb-versioning</a></strong> to <a href='https://wandb.ai/riverase-safenet/athletes-mlops' target=\"_blank\">Weights & Biases</a> (<a href='https://wandb.me/developer-guide' target=\"_blank\">docs</a>)<br>"
            ],
            "text/plain": [
              "<IPython.core.display.HTML object>"
            ]
          },
          "metadata": {},
          "output_type": "display_data"
        },
        {
          "data": {
            "text/html": [
              " View project at <a href='https://wandb.ai/riverase-safenet/athletes-mlops' target=\"_blank\">https://wandb.ai/riverase-safenet/athletes-mlops</a>"
            ],
            "text/plain": [
              "<IPython.core.display.HTML object>"
            ]
          },
          "metadata": {},
          "output_type": "display_data"
        },
        {
          "data": {
            "text/html": [
              " View run at <a href='https://wandb.ai/riverase-safenet/athletes-mlops/runs/4pg6jy27' target=\"_blank\">https://wandb.ai/riverase-safenet/athletes-mlops/runs/4pg6jy27</a>"
            ],
            "text/plain": [
              "<IPython.core.display.HTML object>"
            ]
          },
          "metadata": {},
          "output_type": "display_data"
        },
        {
          "name": "stdout",
          "output_type": "stream",
          "text": [
            "V1 dataset registered in W&B\n"
          ]
        }
      ],
      "source": [
        "\n",
        "# Initialize W&B project\n",
        "wandb.login()\n",
        "\n",
        "run = wandb.init(\n",
        "    project=\"athletes-mlops\",\n",
        "    name=\"wandb-versioning\",\n",
        "    job_type=\"data-versioning\"\n",
        ")\n",
        "\n",
        "# Create and log v1 artifact\n",
        "artifact_v1 = wandb.Artifact(\n",
        "    name='athletes-data-v1',\n",
        "    type='dataset',\n",
        "    description='Raw athletes dataset version 1'\n",
        ")\n",
        "\n",
        "# Save v1 to file and add to artifact\n",
        "data_v1.to_csv('athletes_v1_wandb.csv', index=False)\n",
        "artifact_v1.add_file('athletes_v1_wandb.csv')\n",
        "\n",
        "# Log artifact\n",
        "run.log_artifact(artifact_v1)\n",
        "\n",
        "print(\"V1 dataset registered in W&B\")"
      ]
    },
    {
      "cell_type": "markdown",
      "metadata": {},
      "source": [
        "## save v2 to w&b"
      ]
    },
    {
      "cell_type": "code",
      "execution_count": null,
      "metadata": {},
      "outputs": [
        {
          "data": {
            "text/html": [],
            "text/plain": [
              "<IPython.core.display.HTML object>"
            ]
          },
          "metadata": {},
          "output_type": "display_data"
        },
        {
          "data": {
            "text/html": [
              " View run <strong style=\"color:#cdcd00\">wandb-versioning</strong> at: <a href='https://wandb.ai/riverase-safenet/athletes-mlops/runs/4pg6jy27' target=\"_blank\">https://wandb.ai/riverase-safenet/athletes-mlops/runs/4pg6jy27</a><br> View project at: <a href='https://wandb.ai/riverase-safenet/athletes-mlops' target=\"_blank\">https://wandb.ai/riverase-safenet/athletes-mlops</a><br>Synced 5 W&B file(s), 0 media file(s), 4 artifact file(s) and 0 other file(s)"
            ],
            "text/plain": [
              "<IPython.core.display.HTML object>"
            ]
          },
          "metadata": {},
          "output_type": "display_data"
        },
        {
          "data": {
            "text/html": [
              "Find logs at: <code>.\\wandb\\run-20251012_152706-4pg6jy27\\logs</code>"
            ],
            "text/plain": [
              "<IPython.core.display.HTML object>"
            ]
          },
          "metadata": {},
          "output_type": "display_data"
        },
        {
          "name": "stdout",
          "output_type": "stream",
          "text": [
            "V2 dataset registered in W&B\n"
          ]
        }
      ],
      "source": [
        "# Create and log v2 artifact\n",
        "artifact_v2 = wandb.Artifact(\n",
        "    name='athletes-data-v2',\n",
        "    type='dataset',\n",
        "    description='Cleaned athletes dataset version 2'\n",
        ")\n",
        "\n",
        "# Add v2 file to artifact\n",
        "artifact_v2.add_file('athletes_v2.csv')\n",
        "\n",
        "# Log artifact\n",
        "run.log_artifact(artifact_v2)\n",
        "\n",
        "wandb.finish()\n",
        "\n",
        "print(\"V2 dataset registered in W&B\")"
      ]
    },
    {
      "cell_type": "markdown",
      "metadata": {},
      "source": [
        "# W&B Load v1 and train "
      ]
    },
    {
      "cell_type": "code",
      "execution_count": null,
      "metadata": {},
      "outputs": [
        {
          "data": {
            "text/html": [
              "Finishing previous runs because reinit is set to 'default'."
            ],
            "text/plain": [
              "<IPython.core.display.HTML object>"
            ]
          },
          "metadata": {},
          "output_type": "display_data"
        },
        {
          "data": {
            "text/html": [],
            "text/plain": [
              "<IPython.core.display.HTML object>"
            ]
          },
          "metadata": {},
          "output_type": "display_data"
        },
        {
          "data": {
            "text/html": [
              " View run <strong style=\"color:#cdcd00\">wandb-v2-training</strong> at: <a href='https://wandb.ai/riverase-safenet/athletes-mlops/runs/qyv4evhe' target=\"_blank\">https://wandb.ai/riverase-safenet/athletes-mlops/runs/qyv4evhe</a><br> View project at: <a href='https://wandb.ai/riverase-safenet/athletes-mlops' target=\"_blank\">https://wandb.ai/riverase-safenet/athletes-mlops</a><br>Synced 5 W&B file(s), 0 media file(s), 0 artifact file(s) and 0 other file(s)"
            ],
            "text/plain": [
              "<IPython.core.display.HTML object>"
            ]
          },
          "metadata": {},
          "output_type": "display_data"
        },
        {
          "data": {
            "text/html": [
              "Find logs at: <code>.\\wandb\\run-20251012_160652-qyv4evhe\\logs</code>"
            ],
            "text/plain": [
              "<IPython.core.display.HTML object>"
            ]
          },
          "metadata": {},
          "output_type": "display_data"
        },
        {
          "data": {
            "text/html": [],
            "text/plain": [
              "<IPython.core.display.HTML object>"
            ]
          },
          "metadata": {},
          "output_type": "display_data"
        },
        {
          "data": {
            "text/html": [
              "Tracking run with wandb version 0.22.2"
            ],
            "text/plain": [
              "<IPython.core.display.HTML object>"
            ]
          },
          "metadata": {},
          "output_type": "display_data"
        },
        {
          "data": {
            "text/html": [
              "Run data is saved locally in <code>c:\\Users\\Sebastian\\OneDrive\\Documents\\Data Science\\Masters Science - DS\\5th Quarter\\MLOPS\\Assignments\\Assign_1\\wandb\\run-20251012_160726-lt6wvnqi</code>"
            ],
            "text/plain": [
              "<IPython.core.display.HTML object>"
            ]
          },
          "metadata": {},
          "output_type": "display_data"
        },
        {
          "data": {
            "text/html": [
              "Syncing run <strong><a href='https://wandb.ai/riverase-safenet/athletes-mlops/runs/lt6wvnqi' target=\"_blank\">wandb-v1-training</a></strong> to <a href='https://wandb.ai/riverase-safenet/athletes-mlops' target=\"_blank\">Weights & Biases</a> (<a href='https://wandb.me/developer-guide' target=\"_blank\">docs</a>)<br>"
            ],
            "text/plain": [
              "<IPython.core.display.HTML object>"
            ]
          },
          "metadata": {},
          "output_type": "display_data"
        },
        {
          "data": {
            "text/html": [
              " View project at <a href='https://wandb.ai/riverase-safenet/athletes-mlops' target=\"_blank\">https://wandb.ai/riverase-safenet/athletes-mlops</a>"
            ],
            "text/plain": [
              "<IPython.core.display.HTML object>"
            ]
          },
          "metadata": {},
          "output_type": "display_data"
        },
        {
          "data": {
            "text/html": [
              " View run at <a href='https://wandb.ai/riverase-safenet/athletes-mlops/runs/lt6wvnqi' target=\"_blank\">https://wandb.ai/riverase-safenet/athletes-mlops/runs/lt6wvnqi</a>"
            ],
            "text/plain": [
              "<IPython.core.display.HTML object>"
            ]
          },
          "metadata": {},
          "output_type": "display_data"
        },
        {
          "name": "stderr",
          "output_type": "stream",
          "text": [
            "wandb: Downloading large artifact 'athletes-data-v1:latest', 69.08MB. 1 files...\n",
            "wandb:   1 of 1 files downloaded.  \n",
            "Done. 00:00:00.3 (221.4MB/s)\n"
          ]
        },
        {
          "name": "stdout",
          "output_type": "stream",
          "text": [
            "=== V1 Model Metrics ===\n",
            "RMSE: 153923.75\n",
            "MAE: 1707.29\n",
            "R²: 0.7608\n"
          ]
        },
        {
          "data": {
            "text/html": [],
            "text/plain": [
              "<IPython.core.display.HTML object>"
            ]
          },
          "metadata": {},
          "output_type": "display_data"
        },
        {
          "data": {
            "text/html": [
              "<br>    <style><br>        .wandb-row {<br>            display: flex;<br>            flex-direction: row;<br>            flex-wrap: wrap;<br>            justify-content: flex-start;<br>            width: 100%;<br>        }<br>        .wandb-col {<br>            display: flex;<br>            flex-direction: column;<br>            flex-basis: 100%;<br>            flex: 1;<br>            padding: 10px;<br>        }<br>    </style><br><div class=\"wandb-row\"><div class=\"wandb-col\"><h3>Run history:</h3><br/><table class=\"wandb\"><tr><td>v1_mae</td><td>▁</td></tr><tr><td>v1_r2</td><td>▁</td></tr><tr><td>v1_rmse</td><td>▁</td></tr></table><br/></div><div class=\"wandb-col\"><h3>Run summary:</h3><br/><table class=\"wandb\"><tr><td>v1_mae</td><td>1707.2908</td></tr><tr><td>v1_r2</td><td>0.76084</td></tr><tr><td>v1_rmse</td><td>153923.75017</td></tr></table><br/></div></div>"
            ],
            "text/plain": [
              "<IPython.core.display.HTML object>"
            ]
          },
          "metadata": {},
          "output_type": "display_data"
        },
        {
          "data": {
            "text/html": [
              " View run <strong style=\"color:#cdcd00\">wandb-v1-training</strong> at: <a href='https://wandb.ai/riverase-safenet/athletes-mlops/runs/lt6wvnqi' target=\"_blank\">https://wandb.ai/riverase-safenet/athletes-mlops/runs/lt6wvnqi</a><br> View project at: <a href='https://wandb.ai/riverase-safenet/athletes-mlops' target=\"_blank\">https://wandb.ai/riverase-safenet/athletes-mlops</a><br>Synced 5 W&B file(s), 0 media file(s), 0 artifact file(s) and 0 other file(s)"
            ],
            "text/plain": [
              "<IPython.core.display.HTML object>"
            ]
          },
          "metadata": {},
          "output_type": "display_data"
        },
        {
          "data": {
            "text/html": [
              "Find logs at: <code>.\\wandb\\run-20251012_160726-lt6wvnqi\\logs</code>"
            ],
            "text/plain": [
              "<IPython.core.display.HTML object>"
            ]
          },
          "metadata": {},
          "output_type": "display_data"
        }
      ],
      "source": [
        "\n",
        "#  Load v1 and train\n",
        "run_v1 = wandb.init(project=\"athletes-mlops\", name=\"wandb-v1-training\", job_type=\"training\")\n",
        "\n",
        "# Load v1 from W&B\n",
        "artifact_v1 = run_v1.use_artifact('athletes-data-v1:latest')\n",
        "artifact_v1_dir = artifact_v1.download()\n",
        "data_v1_wandb = pd.read_csv(f'{artifact_v1_dir}/athletes_v1_wandb.csv')\n",
        "\n",
        "# Train model on v1 (same XGBoost code)\n",
        "\n",
        "\n",
        "# Drop NaNs from X and y\n",
        "X_train_v1_clean = X_train_v1.dropna()\n",
        "y_train_v1_clean = y_train_v1.loc[X_train_v1_clean.index]\n",
        "\n",
        "X_test_v1_clean = X_test_v1.dropna()\n",
        "y_test_v1_clean = y_test_v1.loc[X_test_v1_clean.index]\n",
        "\n",
        "# Train XGBoost model\n",
        "model_v1 = xgb.XGBRegressor(\n",
        "    n_estimators=100,\n",
        "    learning_rate=0.1,\n",
        "    max_depth=5,\n",
        "    random_state=42\n",
        ")\n",
        "\n",
        "model_v1.fit(X_train_v1_clean, y_train_v1_clean)\n",
        "\n",
        "# Predictions\n",
        "y_pred_v1 = model_v1.predict(X_test_v1_clean)\n",
        "\n",
        "# Metrics\n",
        "mse_v1 = mean_squared_error(y_test_v1_clean, y_pred_v1)\n",
        "rmse_v1 = np.sqrt(mse_v1)\n",
        "mae_v1 = mean_absolute_error(y_test_v1_clean, y_pred_v1)\n",
        "r2_v1 = r2_score(y_test_v1_clean, y_pred_v1)\n",
        "\n",
        "print(\"=== V1 Model Metrics ===\")\n",
        "print(f\"RMSE: {rmse_v1:.2f}\")\n",
        "print(f\"MAE: {mae_v1:.2f}\")\n",
        "print(f\"R²: {r2_v1:.4f}\")\n",
        "\n",
        "# Log metrics to W&B\n",
        "wandb.log({\"v1_rmse\": rmse_v1, \"v1_mae\": mae_v1, \"v1_r2\": r2_v1})\n",
        "wandb.finish()"
      ]
    },
    {
      "cell_type": "markdown",
      "metadata": {},
      "source": [
        "# W&B Load v2 and train"
      ]
    },
    {
      "cell_type": "code",
      "execution_count": null,
      "metadata": {},
      "outputs": [
        {
          "data": {
            "text/html": [],
            "text/plain": [
              "<IPython.core.display.HTML object>"
            ]
          },
          "metadata": {},
          "output_type": "display_data"
        },
        {
          "data": {
            "text/html": [
              "Tracking run with wandb version 0.22.2"
            ],
            "text/plain": [
              "<IPython.core.display.HTML object>"
            ]
          },
          "metadata": {},
          "output_type": "display_data"
        },
        {
          "data": {
            "text/html": [
              "Run data is saved locally in <code>c:\\Users\\Sebastian\\OneDrive\\Documents\\Data Science\\Masters Science - DS\\5th Quarter\\MLOPS\\Assignments\\Assign_1\\wandb\\run-20251012_161107-tcten8u1</code>"
            ],
            "text/plain": [
              "<IPython.core.display.HTML object>"
            ]
          },
          "metadata": {},
          "output_type": "display_data"
        },
        {
          "data": {
            "text/html": [
              "Syncing run <strong><a href='https://wandb.ai/riverase-safenet/athletes-mlops/runs/tcten8u1' target=\"_blank\">wandb-v2-training</a></strong> to <a href='https://wandb.ai/riverase-safenet/athletes-mlops' target=\"_blank\">Weights & Biases</a> (<a href='https://wandb.me/developer-guide' target=\"_blank\">docs</a>)<br>"
            ],
            "text/plain": [
              "<IPython.core.display.HTML object>"
            ]
          },
          "metadata": {},
          "output_type": "display_data"
        },
        {
          "data": {
            "text/html": [
              " View project at <a href='https://wandb.ai/riverase-safenet/athletes-mlops' target=\"_blank\">https://wandb.ai/riverase-safenet/athletes-mlops</a>"
            ],
            "text/plain": [
              "<IPython.core.display.HTML object>"
            ]
          },
          "metadata": {},
          "output_type": "display_data"
        },
        {
          "data": {
            "text/html": [
              " View run at <a href='https://wandb.ai/riverase-safenet/athletes-mlops/runs/tcten8u1' target=\"_blank\">https://wandb.ai/riverase-safenet/athletes-mlops/runs/tcten8u1</a>"
            ],
            "text/plain": [
              "<IPython.core.display.HTML object>"
            ]
          },
          "metadata": {},
          "output_type": "display_data"
        },
        {
          "name": "stderr",
          "output_type": "stream",
          "text": [
            "wandb:   1 of 1 files downloaded.  \n"
          ]
        },
        {
          "name": "stdout",
          "output_type": "stream",
          "text": [
            "=== V2 Model Metrics ===\n",
            "RMSE: 9.71\n",
            "MAE: 5.58\n",
            "R²: 0.9988\n"
          ]
        },
        {
          "data": {
            "text/html": [],
            "text/plain": [
              "<IPython.core.display.HTML object>"
            ]
          },
          "metadata": {},
          "output_type": "display_data"
        },
        {
          "data": {
            "text/html": [
              "<br>    <style><br>        .wandb-row {<br>            display: flex;<br>            flex-direction: row;<br>            flex-wrap: wrap;<br>            justify-content: flex-start;<br>            width: 100%;<br>        }<br>        .wandb-col {<br>            display: flex;<br>            flex-direction: column;<br>            flex-basis: 100%;<br>            flex: 1;<br>            padding: 10px;<br>        }<br>    </style><br><div class=\"wandb-row\"><div class=\"wandb-col\"><h3>Run history:</h3><br/><table class=\"wandb\"><tr><td>v2_mae</td><td>▁</td></tr><tr><td>v2_r2</td><td>▁</td></tr><tr><td>v2_rmse</td><td>▁</td></tr></table><br/></div><div class=\"wandb-col\"><h3>Run summary:</h3><br/><table class=\"wandb\"><tr><td>v2_mae</td><td>5.57652</td></tr><tr><td>v2_r2</td><td>0.99877</td></tr><tr><td>v2_rmse</td><td>9.71264</td></tr></table><br/></div></div>"
            ],
            "text/plain": [
              "<IPython.core.display.HTML object>"
            ]
          },
          "metadata": {},
          "output_type": "display_data"
        },
        {
          "data": {
            "text/html": [
              " View run <strong style=\"color:#cdcd00\">wandb-v2-training</strong> at: <a href='https://wandb.ai/riverase-safenet/athletes-mlops/runs/tcten8u1' target=\"_blank\">https://wandb.ai/riverase-safenet/athletes-mlops/runs/tcten8u1</a><br> View project at: <a href='https://wandb.ai/riverase-safenet/athletes-mlops' target=\"_blank\">https://wandb.ai/riverase-safenet/athletes-mlops</a><br>Synced 5 W&B file(s), 0 media file(s), 0 artifact file(s) and 0 other file(s)"
            ],
            "text/plain": [
              "<IPython.core.display.HTML object>"
            ]
          },
          "metadata": {},
          "output_type": "display_data"
        },
        {
          "data": {
            "text/html": [
              "Find logs at: <code>.\\wandb\\run-20251012_161107-tcten8u1\\logs</code>"
            ],
            "text/plain": [
              "<IPython.core.display.HTML object>"
            ]
          },
          "metadata": {},
          "output_type": "display_data"
        }
      ],
      "source": [
        "run_v2 = wandb.init(project=\"athletes-mlops\", name=\"wandb-v2-training\", job_type=\"training\")\n",
        "\n",
        "X_train_v2_clean = X_train_v2.dropna()\n",
        "y_train_v2_clean = y_train_v2.loc[X_train_v2_clean.index]\n",
        "\n",
        "X_test_v2_clean = X_test_v2.dropna()\n",
        "y_test_v2_clean = y_test_v2.loc[X_test_v2_clean.index]\n",
        "\n",
        "\n",
        "# Load v2 from W&B (SAME CODE, just change version)\n",
        "artifact_v2 = run_v2.use_artifact('athletes-data-v2:latest')\n",
        "artifact_v2_dir = artifact_v2.download()\n",
        "data_v2_wandb = pd.read_csv(f'{artifact_v2_dir}/athletes_v2.csv')\n",
        "\n",
        "# Train model on v2 (SAME CODE)\n",
        "\n",
        "# Train model (SAME CODE as v1)\n",
        "model_v2 = xgb.XGBRegressor(\n",
        "    n_estimators=100,\n",
        "    learning_rate=0.1,\n",
        "    max_depth=5,\n",
        "    random_state=42\n",
        ")\n",
        "\n",
        "model_v2.fit(X_train_v2_clean, y_train_v2_clean)\n",
        "\n",
        "# Predictions\n",
        "y_pred_v2 = model_v2.predict(X_test_v2_clean)\n",
        "\n",
        "# Metrics\n",
        "mse_v2 = mean_squared_error(y_test_v2_clean, y_pred_v2)\n",
        "rmse_v2 = np.sqrt(mse_v2)\n",
        "mae_v2 = mean_absolute_error(y_test_v2_clean, y_pred_v2)\n",
        "r2_v2 = r2_score(y_test_v2_clean, y_pred_v2)\n",
        "\n",
        "print(\"=== V2 Model Metrics ===\")\n",
        "print(f\"RMSE: {rmse_v2:.2f}\")\n",
        "print(f\"MAE: {mae_v2:.2f}\")\n",
        "print(f\"R²: {r2_v2:.4f}\")\n",
        "wandb.log({\"v2_rmse\": rmse_v2, \"v2_mae\": mae_v2, \"v2_r2\": r2_v2})\n",
        "wandb.finish()"
      ]
    },
    {
      "cell_type": "markdown",
      "metadata": {},
      "source": [
        "12. Compare and comment on the accuracy/metrics of the models WandB:\n",
        "\n",
        "### === V1 Model Metrics ===\n",
        "RMSE: 153923.75\n",
        "MAE: 1707.29\n",
        "R²: 0.7608\n",
        "\n",
        "### === V2 Model Metrics ===\n",
        "v2_mae\t5.57652\n",
        "v2_r2\t0.99877\n",
        "v2_rmse\t9.71264\n",
        "\n",
        "\n",
        "Results are similar to the LakeFS results which shows we did everything well in our dual implementation of tools. As expected the V2 model which is cleaned has significantly better performance. "
      ]
    },
    {
      "cell_type": "markdown",
      "metadata": {},
      "source": [
        "# Wandb DP with V2"
      ]
    },
    {
      "cell_type": "code",
      "execution_count": 4,
      "metadata": {},
      "outputs": [
        {
          "name": "stderr",
          "output_type": "stream",
          "text": [
            "wandb: Currently logged in as: riverase (riverase-safenet) to https://api.wandb.ai. Use `wandb login --relogin` to force relogin\n"
          ]
        },
        {
          "data": {
            "text/html": [],
            "text/plain": [
              "<IPython.core.display.HTML object>"
            ]
          },
          "metadata": {},
          "output_type": "display_data"
        },
        {
          "data": {
            "text/html": [
              "Tracking run with wandb version 0.22.2"
            ],
            "text/plain": [
              "<IPython.core.display.HTML object>"
            ]
          },
          "metadata": {},
          "output_type": "display_data"
        },
        {
          "data": {
            "text/html": [
              "Run data is saved locally in <code>c:\\Users\\river\\OneDrive\\Documents\\Data Science\\Masters Science - DS\\5th Quarter\\MLOPS\\Assignments\\Assign_1\\wandb\\run-20251013_203426-rvq0eehw</code>"
            ],
            "text/plain": [
              "<IPython.core.display.HTML object>"
            ]
          },
          "metadata": {},
          "output_type": "display_data"
        },
        {
          "data": {
            "text/html": [
              "Syncing run <strong><a href='https://wandb.ai/riverase-safenet/athletes-mlops/runs/rvq0eehw' target=\"_blank\">wandb-v2-dp-training</a></strong> to <a href='https://wandb.ai/riverase-safenet/athletes-mlops' target=\"_blank\">Weights & Biases</a> (<a href='https://wandb.me/developer-guide' target=\"_blank\">docs</a>)<br>"
            ],
            "text/plain": [
              "<IPython.core.display.HTML object>"
            ]
          },
          "metadata": {},
          "output_type": "display_data"
        },
        {
          "data": {
            "text/html": [
              " View project at <a href='https://wandb.ai/riverase-safenet/athletes-mlops' target=\"_blank\">https://wandb.ai/riverase-safenet/athletes-mlops</a>"
            ],
            "text/plain": [
              "<IPython.core.display.HTML object>"
            ]
          },
          "metadata": {},
          "output_type": "display_data"
        },
        {
          "data": {
            "text/html": [
              " View run at <a href='https://wandb.ai/riverase-safenet/athletes-mlops/runs/rvq0eehw' target=\"_blank\">https://wandb.ai/riverase-safenet/athletes-mlops/runs/rvq0eehw</a>"
            ],
            "text/plain": [
              "<IPython.core.display.HTML object>"
            ]
          },
          "metadata": {},
          "output_type": "display_data"
        },
        {
          "name": "stderr",
          "output_type": "stream",
          "text": [
            "wandb:   1 of 1 files downloaded.  \n"
          ]
        },
        {
          "name": "stdout",
          "output_type": "stream",
          "text": [
            "WARNING:tensorflow:From C:\\Users\\river\\AppData\\Local\\Packages\\PythonSoftwareFoundation.Python.3.11_qbz5n2kfra8p0\\LocalCache\\local-packages\\Python311\\site-packages\\keras\\src\\backend.py:873: The name tf.get_default_graph is deprecated. Please use tf.compat.v1.get_default_graph instead.\n",
            "\n",
            "Epoch 1/100\n",
            "WARNING:tensorflow:From C:\\Users\\river\\AppData\\Local\\Packages\\PythonSoftwareFoundation.Python.3.11_qbz5n2kfra8p0\\LocalCache\\local-packages\\Python311\\site-packages\\keras\\src\\utils\\tf_utils.py:492: The name tf.ragged.RaggedTensorValue is deprecated. Please use tf.compat.v1.ragged.RaggedTensorValue instead.\n",
            "\n",
            "94/94 [==============================] - 3s 7ms/step - loss: 1112003.6250 - mae: 1017.2817 - val_loss: 1098373.8750 - val_mae: 1010.7269\n",
            "Epoch 2/100\n",
            "94/94 [==============================] - 0s 3ms/step - loss: 1086240.2500 - mae: 1003.4634 - val_loss: 1063972.0000 - val_mae: 992.3470\n",
            "Epoch 3/100\n",
            "94/94 [==============================] - 0s 4ms/step - loss: 999603.3125 - mae: 956.0300 - val_loss: 903937.8125 - val_mae: 904.4727\n",
            "Epoch 4/100\n",
            "94/94 [==============================] - 0s 4ms/step - loss: 784126.9375 - mae: 835.3790 - val_loss: 564272.6250 - val_mae: 707.8396\n",
            "Epoch 5/100\n",
            "94/94 [==============================] - 0s 5ms/step - loss: 436708.1562 - mae: 610.5818 - val_loss: 298347.3438 - val_mae: 495.1417\n",
            "Epoch 6/100\n",
            "94/94 [==============================] - 1s 7ms/step - loss: 202689.5625 - mae: 392.3624 - val_loss: 153231.3438 - val_mae: 336.8829\n",
            "Epoch 7/100\n",
            "94/94 [==============================] - 1s 7ms/step - loss: 135692.5156 - mae: 304.7881 - val_loss: 101017.9531 - val_mae: 259.5258\n",
            "Epoch 8/100\n",
            "94/94 [==============================] - 1s 6ms/step - loss: 103104.4688 - mae: 261.3696 - val_loss: 110685.9609 - val_mae: 272.7456\n",
            "Epoch 9/100\n",
            "94/94 [==============================] - 0s 4ms/step - loss: 100894.5312 - mae: 250.0179 - val_loss: 103758.7656 - val_mae: 249.0887\n",
            "Epoch 10/100\n",
            "94/94 [==============================] - 0s 4ms/step - loss: 101928.5469 - mae: 254.9626 - val_loss: 111080.7891 - val_mae: 268.6324\n",
            "Epoch 11/100\n",
            "94/94 [==============================] - 0s 4ms/step - loss: 94893.6328 - mae: 246.6131 - val_loss: 70547.8906 - val_mae: 207.9733\n",
            "Epoch 12/100\n",
            "94/94 [==============================] - 0s 3ms/step - loss: 57118.9492 - mae: 179.9560 - val_loss: 50462.1680 - val_mae: 165.1621\n",
            "Epoch 13/100\n",
            "94/94 [==============================] - 0s 4ms/step - loss: 50146.9141 - mae: 171.6399 - val_loss: 77075.1172 - val_mae: 198.4715\n",
            "Epoch 14/100\n",
            "94/94 [==============================] - 0s 3ms/step - loss: 73521.7109 - mae: 209.4245 - val_loss: 79978.9453 - val_mae: 227.8609\n",
            "Epoch 15/100\n",
            "94/94 [==============================] - 0s 3ms/step - loss: 69055.3906 - mae: 204.6125 - val_loss: 71420.4062 - val_mae: 215.5167\n",
            "Epoch 16/100\n",
            "94/94 [==============================] - 0s 4ms/step - loss: 71993.9453 - mae: 204.5439 - val_loss: 112528.2031 - val_mae: 247.0343\n",
            "Epoch 17/100\n",
            "94/94 [==============================] - 0s 5ms/step - loss: 88429.1250 - mae: 222.9893 - val_loss: 105961.5000 - val_mae: 248.4591\n",
            "Epoch 18/100\n",
            "94/94 [==============================] - 0s 5ms/step - loss: 96751.6719 - mae: 231.4190 - val_loss: 87403.8047 - val_mae: 231.2175\n",
            "Epoch 19/100\n",
            "94/94 [==============================] - 0s 5ms/step - loss: 119644.1797 - mae: 257.3834 - val_loss: 166889.5625 - val_mae: 307.6850\n",
            "Epoch 20/100\n",
            "94/94 [==============================] - 0s 5ms/step - loss: 127383.6094 - mae: 276.7742 - val_loss: 155101.1094 - val_mae: 320.8511\n",
            "Epoch 21/100\n",
            "94/94 [==============================] - 0s 5ms/step - loss: 153161.0156 - mae: 304.0303 - val_loss: 119382.3750 - val_mae: 264.4159\n",
            "Epoch 22/100\n",
            "94/94 [==============================] - 0s 5ms/step - loss: 143727.6250 - mae: 293.2445 - val_loss: 127997.9844 - val_mae: 272.3834\n",
            "Epoch 23/100\n",
            "94/94 [==============================] - 0s 4ms/step - loss: 164142.1406 - mae: 297.4698 - val_loss: 153245.1719 - val_mae: 292.9960\n",
            "Epoch 24/100\n",
            "94/94 [==============================] - 1s 6ms/step - loss: 240049.1250 - mae: 376.9460 - val_loss: 191891.3594 - val_mae: 343.9440\n",
            "Epoch 25/100\n",
            "94/94 [==============================] - 1s 7ms/step - loss: 198957.3750 - mae: 335.4210 - val_loss: 335958.0312 - val_mae: 432.5542\n",
            "Epoch 26/100\n",
            "94/94 [==============================] - 0s 5ms/step - loss: 205960.8438 - mae: 337.6945 - val_loss: 152807.4062 - val_mae: 293.1607\n",
            "Epoch 27/100\n",
            "94/94 [==============================] - 0s 4ms/step - loss: 209799.5781 - mae: 350.7697 - val_loss: 290428.7188 - val_mae: 410.7679\n",
            "Epoch 28/100\n",
            "94/94 [==============================] - 0s 5ms/step - loss: 214357.2500 - mae: 357.5711 - val_loss: 205814.5156 - val_mae: 348.4411\n",
            "Epoch 29/100\n",
            "94/94 [==============================] - 0s 4ms/step - loss: 206643.7188 - mae: 348.2110 - val_loss: 225457.4219 - val_mae: 379.7087\n",
            "Epoch 30/100\n",
            "94/94 [==============================] - 0s 4ms/step - loss: 236360.4688 - mae: 383.5915 - val_loss: 192390.3594 - val_mae: 341.4415\n",
            "Epoch 31/100\n",
            "94/94 [==============================] - 0s 4ms/step - loss: 219978.1406 - mae: 359.2278 - val_loss: 227735.0781 - val_mae: 378.1995\n",
            "Epoch 32/100\n",
            "94/94 [==============================] - 1s 6ms/step - loss: 170367.1406 - mae: 321.8618 - val_loss: 283379.9688 - val_mae: 427.2136\n",
            "Epoch 33/100\n",
            "94/94 [==============================] - 1s 5ms/step - loss: 243560.2969 - mae: 383.2360 - val_loss: 263421.9688 - val_mae: 386.7234\n",
            "Epoch 34/100\n",
            "94/94 [==============================] - 1s 6ms/step - loss: 286899.0625 - mae: 410.4016 - val_loss: 180837.4219 - val_mae: 320.2340\n",
            "Epoch 35/100\n",
            "94/94 [==============================] - 0s 4ms/step - loss: 321435.5312 - mae: 431.4798 - val_loss: 798762.1875 - val_mae: 669.4514\n",
            "Epoch 36/100\n",
            "94/94 [==============================] - 0s 5ms/step - loss: 520690.0938 - mae: 530.5533 - val_loss: 444351.7188 - val_mae: 517.1959\n",
            "Epoch 37/100\n",
            "94/94 [==============================] - 0s 4ms/step - loss: 667464.9375 - mae: 631.3335 - val_loss: 479252.0625 - val_mae: 546.5399\n",
            "Epoch 38/100\n",
            "94/94 [==============================] - 1s 8ms/step - loss: 621109.4375 - mae: 608.2498 - val_loss: 614223.3125 - val_mae: 623.5916\n",
            "Epoch 39/100\n",
            "94/94 [==============================] - 0s 5ms/step - loss: 535280.8125 - mae: 570.4851 - val_loss: 429342.7188 - val_mae: 486.8604\n",
            "Epoch 40/100\n",
            "94/94 [==============================] - 0s 4ms/step - loss: 533167.7500 - mae: 575.0772 - val_loss: 489568.3750 - val_mae: 526.2862\n",
            "Epoch 41/100\n",
            "94/94 [==============================] - 0s 4ms/step - loss: 510908.9688 - mae: 543.4222 - val_loss: 559901.8125 - val_mae: 597.8295\n",
            "Epoch 42/100\n",
            "94/94 [==============================] - 1s 6ms/step - loss: 559039.3750 - mae: 568.1633 - val_loss: 378456.4375 - val_mae: 482.2455\n",
            "Epoch 43/100\n",
            "94/94 [==============================] - 0s 4ms/step - loss: 498137.7812 - mae: 545.6595 - val_loss: 524536.1250 - val_mae: 575.2054\n",
            "Epoch 44/100\n",
            "94/94 [==============================] - 0s 5ms/step - loss: 595200.1250 - mae: 588.5892 - val_loss: 442344.4375 - val_mae: 492.1575\n",
            "Epoch 45/100\n",
            "94/94 [==============================] - 1s 10ms/step - loss: 610593.1250 - mae: 566.4809 - val_loss: 1127363.1250 - val_mae: 815.8147\n",
            "Epoch 46/100\n",
            "94/94 [==============================] - 1s 10ms/step - loss: 505174.3125 - mae: 532.0061 - val_loss: 450442.1250 - val_mae: 528.9278\n",
            "Epoch 47/100\n",
            "94/94 [==============================] - 1s 11ms/step - loss: 596949.6875 - mae: 581.7830 - val_loss: 917092.7500 - val_mae: 778.1885\n",
            "Epoch 48/100\n",
            "94/94 [==============================] - 1s 10ms/step - loss: 838536.8125 - mae: 713.8117 - val_loss: 558864.8125 - val_mae: 566.6409\n",
            "Epoch 49/100\n",
            "94/94 [==============================] - 1s 10ms/step - loss: 674876.1250 - mae: 630.2029 - val_loss: 455076.5312 - val_mae: 502.8365\n",
            "Epoch 50/100\n",
            "94/94 [==============================] - 1s 14ms/step - loss: 478891.5312 - mae: 522.4739 - val_loss: 620440.0625 - val_mae: 605.1088\n",
            "Epoch 51/100\n",
            "94/94 [==============================] - 1s 11ms/step - loss: 668229.5000 - mae: 624.7960 - val_loss: 410554.1562 - val_mae: 501.3480\n",
            "Epoch 52/100\n",
            "94/94 [==============================] - 11s 118ms/step - loss: 581969.8125 - mae: 590.6038 - val_loss: 632421.5625 - val_mae: 619.9573\n",
            "Epoch 53/100\n",
            "94/94 [==============================] - 2s 19ms/step - loss: 841799.2500 - mae: 708.8051 - val_loss: 1002709.1875 - val_mae: 767.2493\n",
            "Epoch 54/100\n",
            "94/94 [==============================] - 1s 6ms/step - loss: 858610.8125 - mae: 711.4063 - val_loss: 623505.1875 - val_mae: 611.1477\n",
            "Epoch 55/100\n",
            "94/94 [==============================] - 0s 4ms/step - loss: 694947.6250 - mae: 623.3899 - val_loss: 830867.1875 - val_mae: 693.8356\n",
            "Epoch 56/100\n",
            "94/94 [==============================] - 0s 5ms/step - loss: 790749.7500 - mae: 679.1182 - val_loss: 716563.5625 - val_mae: 655.4481\n",
            "Epoch 57/100\n",
            "94/94 [==============================] - 0s 5ms/step - loss: 965698.4375 - mae: 736.4058 - val_loss: 1648562.6250 - val_mae: 955.8467\n",
            "Epoch 58/100\n",
            "94/94 [==============================] - 1s 9ms/step - loss: 926773.9375 - mae: 723.6052 - val_loss: 614772.3125 - val_mae: 594.5849\n",
            "Epoch 59/100\n",
            "94/94 [==============================] - 1s 10ms/step - loss: 1020423.8125 - mae: 768.9138 - val_loss: 945933.3750 - val_mae: 741.0305\n",
            "Epoch 60/100\n",
            "94/94 [==============================] - 1s 6ms/step - loss: 1115223.0000 - mae: 800.1127 - val_loss: 953305.6250 - val_mae: 739.9736\n",
            "Epoch 61/100\n",
            "94/94 [==============================] - 1s 11ms/step - loss: 1059756.0000 - mae: 779.3885 - val_loss: 1656695.1250 - val_mae: 988.3605\n",
            "Epoch 62/100\n",
            "94/94 [==============================] - 1s 13ms/step - loss: 1806937.1250 - mae: 1042.1305 - val_loss: 1484500.7500 - val_mae: 959.3718\n",
            "Epoch 63/100\n",
            "94/94 [==============================] - 8s 91ms/step - loss: 1430573.5000 - mae: 927.2771 - val_loss: 1771552.6250 - val_mae: 1041.7197\n",
            "Epoch 64/100\n",
            "94/94 [==============================] - 3s 30ms/step - loss: 2395707.0000 - mae: 1191.2640 - val_loss: 1730507.8750 - val_mae: 1040.8331\n",
            "Epoch 65/100\n",
            "94/94 [==============================] - 12s 125ms/step - loss: 2707810.7500 - mae: 1285.4165 - val_loss: 3334474.5000 - val_mae: 1398.5815\n",
            "Epoch 66/100\n",
            "94/94 [==============================] - 15s 156ms/step - loss: 6961052.0000 - mae: 2080.2991 - val_loss: 5142353.0000 - val_mae: 1770.9132\n",
            "Epoch 67/100\n",
            "94/94 [==============================] - 8s 82ms/step - loss: 4465094.5000 - mae: 1619.3153 - val_loss: 3222991.2500 - val_mae: 1372.2894\n",
            "Epoch 68/100\n",
            "94/94 [==============================] - 0s 5ms/step - loss: 2686420.5000 - mae: 1274.5702 - val_loss: 2831921.5000 - val_mae: 1316.1771\n",
            "Epoch 69/100\n",
            "94/94 [==============================] - 0s 4ms/step - loss: 2588640.5000 - mae: 1241.5428 - val_loss: 2411865.2500 - val_mae: 1203.2433\n",
            "Epoch 70/100\n",
            "94/94 [==============================] - 0s 5ms/step - loss: 2511196.0000 - mae: 1214.9215 - val_loss: 1931779.1250 - val_mae: 1052.0452\n",
            "Epoch 71/100\n",
            "94/94 [==============================] - 0s 4ms/step - loss: 2579704.7500 - mae: 1221.4872 - val_loss: 2178215.7500 - val_mae: 1126.5847\n",
            "Epoch 72/100\n",
            "94/94 [==============================] - 0s 5ms/step - loss: 2016473.7500 - mae: 1081.6787 - val_loss: 2070811.3750 - val_mae: 1131.3956\n",
            "Epoch 73/100\n",
            "94/94 [==============================] - 1s 7ms/step - loss: 2028580.1250 - mae: 1108.8438 - val_loss: 1992247.6250 - val_mae: 1088.1582\n",
            "Epoch 74/100\n",
            "94/94 [==============================] - 0s 5ms/step - loss: 1444541.8750 - mae: 882.0455 - val_loss: 1182029.0000 - val_mae: 784.7047\n",
            "Epoch 75/100\n",
            "94/94 [==============================] - 0s 4ms/step - loss: 2211907.0000 - mae: 1148.8817 - val_loss: 1702783.8750 - val_mae: 949.8101\n",
            "Epoch 76/100\n",
            "94/94 [==============================] - 0s 4ms/step - loss: 2782935.0000 - mae: 1273.7933 - val_loss: 2600107.2500 - val_mae: 1218.5564\n",
            "Epoch 77/100\n",
            "94/94 [==============================] - 0s 3ms/step - loss: 2503190.5000 - mae: 1215.8727 - val_loss: 2102723.2500 - val_mae: 1091.1176\n",
            "Epoch 78/100\n",
            "94/94 [==============================] - 0s 3ms/step - loss: 3389574.7500 - mae: 1379.5264 - val_loss: 2174041.5000 - val_mae: 1094.6672\n",
            "Epoch 79/100\n",
            "94/94 [==============================] - 0s 3ms/step - loss: 3095783.0000 - mae: 1324.8724 - val_loss: 2529530.2500 - val_mae: 1149.9670\n",
            "Epoch 80/100\n",
            "94/94 [==============================] - 0s 3ms/step - loss: 2476674.0000 - mae: 1164.1906 - val_loss: 1900624.0000 - val_mae: 1038.3293\n",
            "Epoch 81/100\n",
            "94/94 [==============================] - 0s 5ms/step - loss: 2310583.0000 - mae: 1147.5203 - val_loss: 2504417.2500 - val_mae: 1120.9727\n",
            "Epoch 82/100\n",
            "94/94 [==============================] - 0s 4ms/step - loss: 2570379.2500 - mae: 1160.4531 - val_loss: 2517957.0000 - val_mae: 1131.8821\n",
            "Epoch 83/100\n",
            "94/94 [==============================] - 0s 4ms/step - loss: 3416593.5000 - mae: 1362.9142 - val_loss: 2917964.7500 - val_mae: 1261.7693\n",
            "Epoch 84/100\n",
            "94/94 [==============================] - 0s 5ms/step - loss: 3873809.0000 - mae: 1480.5931 - val_loss: 2825724.7500 - val_mae: 1261.7336\n",
            "Epoch 85/100\n",
            "94/94 [==============================] - 0s 4ms/step - loss: 2989337.2500 - mae: 1329.0499 - val_loss: 2882951.5000 - val_mae: 1298.9027\n",
            "Epoch 86/100\n",
            "94/94 [==============================] - 1s 7ms/step - loss: 4206467.0000 - mae: 1555.8658 - val_loss: 2839286.5000 - val_mae: 1293.1266\n",
            "Epoch 87/100\n",
            "94/94 [==============================] - 1s 5ms/step - loss: 2803429.0000 - mae: 1285.5900 - val_loss: 3456793.2500 - val_mae: 1456.0751\n",
            "Epoch 88/100\n",
            "94/94 [==============================] - 0s 3ms/step - loss: 1851490.1250 - mae: 1027.2191 - val_loss: 2772874.5000 - val_mae: 1274.1366\n",
            "Epoch 89/100\n",
            "94/94 [==============================] - 0s 3ms/step - loss: 2638610.2500 - mae: 1236.1349 - val_loss: 3350656.2500 - val_mae: 1483.7981\n",
            "Epoch 90/100\n",
            "94/94 [==============================] - 0s 3ms/step - loss: 2034094.6250 - mae: 1095.9087 - val_loss: 1488774.5000 - val_mae: 945.7356\n",
            "Epoch 91/100\n",
            "94/94 [==============================] - 0s 3ms/step - loss: 2507816.7500 - mae: 1218.2092 - val_loss: 3731601.2500 - val_mae: 1523.5463\n",
            "Epoch 92/100\n",
            "94/94 [==============================] - 0s 4ms/step - loss: 3107138.7500 - mae: 1377.6053 - val_loss: 3263938.2500 - val_mae: 1401.5138\n",
            "Epoch 93/100\n",
            "94/94 [==============================] - 0s 4ms/step - loss: 2723195.0000 - mae: 1259.1545 - val_loss: 3398057.5000 - val_mae: 1396.6515\n",
            "Epoch 94/100\n",
            "94/94 [==============================] - 0s 4ms/step - loss: 2497922.0000 - mae: 1198.7793 - val_loss: 1579973.5000 - val_mae: 977.5519\n",
            "Epoch 95/100\n",
            "94/94 [==============================] - 0s 4ms/step - loss: 2583986.2500 - mae: 1220.3593 - val_loss: 2232232.2500 - val_mae: 1123.9871\n",
            "Epoch 96/100\n",
            "94/94 [==============================] - 1s 6ms/step - loss: 2944328.7500 - mae: 1318.3000 - val_loss: 2700883.7500 - val_mae: 1216.1600\n",
            "Epoch 97/100\n",
            "94/94 [==============================] - 0s 4ms/step - loss: 2626939.2500 - mae: 1215.7518 - val_loss: 2421265.0000 - val_mae: 1157.2085\n",
            "Epoch 98/100\n",
            "94/94 [==============================] - 0s 3ms/step - loss: 3581700.0000 - mae: 1444.7140 - val_loss: 3957363.7500 - val_mae: 1475.1362\n",
            "Epoch 99/100\n",
            "94/94 [==============================] - 0s 3ms/step - loss: 6728261.0000 - mae: 1989.4567 - val_loss: 5697046.5000 - val_mae: 1782.8903\n",
            "Epoch 100/100\n",
            "94/94 [==============================] - 0s 3ms/step - loss: 6720014.5000 - mae: 1918.3046 - val_loss: 7014566.0000 - val_mae: 1939.8518\n",
            "\n",
            "DP-SGD performed over 24023 examples with 256 examples per iteration, noise\n",
            "multiplier 3.0 for 100 epochs with microbatching, and at most 1 examples per\n",
            "user.\n",
            "\n",
            "This privacy guarantee protects the release of all model checkpoints in addition\n",
            "to the final model.\n",
            "\n",
            "Example-level DP with add-or-remove-one adjacency at delta = 1e-05 computed with\n",
            "RDP accounting:\n",
            "    Epsilon with each example occurring once per epoch:        52.579\n",
            "    Epsilon assuming Poisson sampling (*):                      3.588\n",
            "\n",
            "User-level DP with add-or-remove-one adjacency at delta = 1e-05 computed using\n",
            "RDP accounting and group privacy:\n",
            "    Epsilon with each example occurring once per epoch:        52.579\n",
            "    Epsilon assuming Poisson sampling (*):                      3.588\n",
            "\n",
            "(*) Poisson sampling is not usually done in training pipelines, but assuming\n",
            "that the data was randomly shuffled, it is believed that the actual epsilon\n",
            "should be closer to this value than the conservative assumption of an arbitrary\n",
            "data order.\n",
            "\n",
            "188/188 [==============================] - 1s 2ms/step\n",
            "\n",
            "=== W&B DP Model Metrics ===\n",
            "RMSE: 2646.85\n",
            "MAE: 1939.85\n",
            "R²: -90.2109\n"
          ]
        },
        {
          "data": {
            "text/html": [],
            "text/plain": [
              "<IPython.core.display.HTML object>"
            ]
          },
          "metadata": {},
          "output_type": "display_data"
        },
        {
          "data": {
            "text/html": [
              "<br>    <style><br>        .wandb-row {<br>            display: flex;<br>            flex-direction: row;<br>            flex-wrap: wrap;<br>            justify-content: flex-start;<br>            width: 100%;<br>        }<br>        .wandb-col {<br>            display: flex;<br>            flex-direction: column;<br>            flex-basis: 100%;<br>            flex: 1;<br>            padding: 10px;<br>        }<br>    </style><br><div class=\"wandb-row\"><div class=\"wandb-col\"><h3>Run history:</h3><br/><table class=\"wandb\"><tr><td>dp_mae</td><td>▁</td></tr><tr><td>dp_r2</td><td>▁</td></tr><tr><td>dp_rmse</td><td>▁</td></tr><tr><td>epsilon</td><td>▁</td></tr></table><br/></div><div class=\"wandb-col\"><h3>Run summary:</h3><br/><table class=\"wandb\"><tr><td>dp_mae</td><td>1939.85172</td></tr><tr><td>dp_r2</td><td>-90.21087</td></tr><tr><td>dp_rmse</td><td>2646.84949</td></tr><tr><td>epsilon</td><td>3.588</td></tr></table><br/></div></div>"
            ],
            "text/plain": [
              "<IPython.core.display.HTML object>"
            ]
          },
          "metadata": {},
          "output_type": "display_data"
        },
        {
          "data": {
            "text/html": [
              " View run <strong style=\"color:#cdcd00\">wandb-v2-dp-training</strong> at: <a href='https://wandb.ai/riverase-safenet/athletes-mlops/runs/rvq0eehw' target=\"_blank\">https://wandb.ai/riverase-safenet/athletes-mlops/runs/rvq0eehw</a><br> View project at: <a href='https://wandb.ai/riverase-safenet/athletes-mlops' target=\"_blank\">https://wandb.ai/riverase-safenet/athletes-mlops</a><br>Synced 5 W&B file(s), 0 media file(s), 0 artifact file(s) and 0 other file(s)"
            ],
            "text/plain": [
              "<IPython.core.display.HTML object>"
            ]
          },
          "metadata": {},
          "output_type": "display_data"
        },
        {
          "data": {
            "text/html": [
              "Find logs at: <code>.\\wandb\\run-20251013_203426-rvq0eehw\\logs</code>"
            ],
            "text/plain": [
              "<IPython.core.display.HTML object>"
            ]
          },
          "metadata": {},
          "output_type": "display_data"
        }
      ],
      "source": [
        "# Initialize W&B run for DP training\n",
        "run_dp = wandb.init(\n",
        "    project=\"athletes-mlops\",\n",
        "    name=\"wandb-v2-dp-training\",\n",
        "    job_type=\"dp-training\"\n",
        ")\n",
        "\n",
        "# Load v2 from W&B\n",
        "artifact_v2 = run_dp.use_artifact('athletes-data-v2:latest')\n",
        "artifact_v2_dir = artifact_v2.download()\n",
        "data_v2_wandb = pd.read_csv(f'{artifact_v2_dir}/athletes_v2.csv')\n",
        "\n",
        "# Prepare data\n",
        "X_v2 = data_v2_wandb[['age', 'weight', 'height', 'deadlift', 'candj', 'snatch', 'backsq']].dropna()\n",
        "y_v2 = data_v2_wandb.loc[X_v2.index, 'total_lift'].dropna()\n",
        "\n",
        "common_idx = X_v2.index.intersection(y_v2.index)\n",
        "X_v2 = X_v2.loc[common_idx]\n",
        "y_v2 = y_v2.loc[common_idx]\n",
        "\n",
        "X_train, X_test, y_train, y_test = train_test_split(X_v2, y_v2, test_size=0.2, random_state=42)\n",
        "\n",
        "# Scale features\n",
        "scaler = StandardScaler()\n",
        "X_train_scaled = scaler.fit_transform(X_train)\n",
        "X_test_scaled = scaler.transform(X_test)\n",
        "\n",
        "# Build DP model\n",
        "dp_model = keras.Sequential([\n",
        "    keras.layers.Dense(128, activation='relu', input_shape=(X_train_scaled.shape[1],)),\n",
        "    keras.layers.Dense(64, activation='relu'),\n",
        "    keras.layers.Dense(32, activation='relu'),\n",
        "    keras.layers.Dense(1)\n",
        "])\n",
        "\n",
        "# DP parameters\n",
        "l2_norm_clip = 1.0\n",
        "noise_multiplier = 3.0\n",
        "batch_size = 256\n",
        "epochs = 100\n",
        "num_microbatches = 1\n",
        "\n",
        "# Log hyperparameters to W&B\n",
        "wandb.config.update({\n",
        "    \"l2_norm_clip\": l2_norm_clip,\n",
        "    \"noise_multiplier\": noise_multiplier,\n",
        "    \"batch_size\": batch_size,\n",
        "    \"epochs\": epochs,\n",
        "    \"num_microbatches\": num_microbatches\n",
        "})\n",
        "\n",
        "optimizer = DPKerasSGDOptimizer(\n",
        "    l2_norm_clip=l2_norm_clip,\n",
        "    noise_multiplier=noise_multiplier,\n",
        "    num_microbatches=num_microbatches,\n",
        "    learning_rate=0.01\n",
        ")\n",
        "\n",
        "loss = tf.keras.losses.MeanSquaredError(reduction=tf.losses.Reduction.NONE)\n",
        "dp_model.compile(optimizer=optimizer, loss=loss, metrics=['mae'])\n",
        "\n",
        "# Train DP model\n",
        "history = dp_model.fit(\n",
        "    X_train_scaled, y_train,\n",
        "    epochs=epochs,\n",
        "    validation_data=(X_test_scaled, y_test),\n",
        "    batch_size=batch_size,\n",
        "    verbose=1\n",
        ")\n",
        "\n",
        "# Compute DP guarantees\n",
        "privacy_statement = compute_dp_sgd_privacy_statement(\n",
        "    number_of_examples=len(X_train),\n",
        "    batch_size=batch_size,\n",
        "    num_epochs=epochs,\n",
        "    noise_multiplier=noise_multiplier,\n",
        "    delta=1e-5,\n",
        "    used_microbatching=True,\n",
        "    max_examples_per_user=1\n",
        ")\n",
        "\n",
        "print(\"\\n\" + privacy_statement)\n",
        "\n",
        "# Predictions and metrics\n",
        "y_pred_dp = dp_model.predict(X_test_scaled).flatten()\n",
        "\n",
        "mse_dp = mean_squared_error(y_test, y_pred_dp)\n",
        "rmse_dp = np.sqrt(mse_dp)\n",
        "mae_dp = mean_absolute_error(y_test, y_pred_dp)\n",
        "r2_dp = r2_score(y_test, y_pred_dp)\n",
        "\n",
        "print(\"\\n=== W&B DP Model Metrics ===\")\n",
        "print(f\"RMSE: {rmse_dp:.2f}\")\n",
        "print(f\"MAE: {mae_dp:.2f}\")\n",
        "print(f\"R²: {r2_dp:.4f}\")\n",
        "\n",
        "# Log metrics to W&B\n",
        "wandb.log({\n",
        "    \"dp_rmse\": rmse_dp,\n",
        "    \"dp_mae\": mae_dp,\n",
        "    \"dp_r2\": r2_dp,\n",
        "    \"epsilon\": 3.588\n",
        "})\n",
        "\n",
        "wandb.finish()"
      ]
    },
    {
      "cell_type": "markdown",
      "metadata": {},
      "source": [
        "# Compare and comment on the accuracy/metrics of the non-DP and DP models using dataset v2 - submit 1 slide"
      ]
    },
    {
      "cell_type": "markdown",
      "metadata": {},
      "source": [
        "Non-DP XGBoost v2: \n",
        "mae = 5.576, \n",
        "r2  = 0.998\n",
        "rmse = 9.712\n",
        "\n"
      ]
    },
    {
      "cell_type": "code",
      "execution_count": 6,
      "metadata": {},
      "outputs": [
        {
          "name": "stdout",
          "output_type": "stream",
          "text": [
            "DP Neural Network v2 (LakeFS): RMSE=2715.96, MAE=2155.36, R²=-95.04, ε=3.588\n",
            "DP Neural Network v2 (W&B): RMSE=2646.85, MAE=1939.85, R²=-90.21, ε=3.588\n"
          ]
        }
      ],
      "source": [
        "print(f\"DP Neural Network v2 (LakeFS): RMSE=2715.96, MAE=2155.36, R²=-95.04, ε=3.588\")\n",
        "print(f\"DP Neural Network v2 (W&B): RMSE=2646.85, MAE=1939.85, R²=-90.21, ε=3.588\")\n"
      ]
    },
    {
      "cell_type": "markdown",
      "metadata": {},
      "source": [
        "## Conclusion: DP provides strong privacy guarantees (ε=3.588) but significantly reduces model utility due to gradient clipping and noise addition in DP-SGD.The privacy-utility tradeoff is substantial: R² drops from 0.9988 to approximately -90 to -95."
      ]
    }
  ],
  "metadata": {
    "colab": {
      "provenance": []
    },
    "kernelspec": {
      "display_name": "Python 3",
      "language": "python",
      "name": "python3"
    },
    "language_info": {
      "codemirror_mode": {
        "name": "ipython",
        "version": 3
      },
      "file_extension": ".py",
      "mimetype": "text/x-python",
      "name": "python",
      "nbconvert_exporter": "python",
      "pygments_lexer": "ipython3",
      "version": "3.11.9"
    }
  },
  "nbformat": 4,
  "nbformat_minor": 0
}
